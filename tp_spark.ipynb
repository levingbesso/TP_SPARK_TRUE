{
  "nbformat": 4,
  "nbformat_minor": 0,
  "metadata": {
    "colab": {
      "provenance": [],
      "authorship_tag": "ABX9TyOQK2AuwvjmyS6zQcPRIVdj",
      "include_colab_link": true
    },
    "kernelspec": {
      "name": "python3",
      "display_name": "Python 3"
    },
    "language_info": {
      "name": "python"
    }
  },
  "cells": [
    {
      "cell_type": "markdown",
      "metadata": {
        "id": "view-in-github",
        "colab_type": "text"
      },
      "source": [
        "<a href=\"https://colab.research.google.com/github/levingbesso/TP_SPARK_TRUE/blob/main/tp_spark.ipynb\" target=\"_parent\"><img src=\"https://colab.research.google.com/assets/colab-badge.svg\" alt=\"Open In Colab\"/></a>"
      ]
    },
    {
      "cell_type": "code",
      "execution_count": null,
      "metadata": {
        "id": "r8O_vPENpI2h"
      },
      "outputs": [],
      "source": [
        "import pyspark as ps\n",
        "from pyspark.sql import SparkSession"
      ]
    },
    {
      "cell_type": "code",
      "source": [
        "spark_session = SparkSession.builder\\\n",
        "        .appName(\"app_name\") \\\n",
        "        .getOrCreate()"
      ],
      "metadata": {
        "id": "cTG40JgQpok-"
      },
      "execution_count": null,
      "outputs": []
    },
    {
      "cell_type": "markdown",
      "source": [
        "# Nouvelle section"
      ],
      "metadata": {
        "id": "3d3L32YpuRaq"
      }
    },
    {
      "cell_type": "code",
      "source": [
        "spark_context = spark_session.sparkContext"
      ],
      "metadata": {
        "id": "r1udBTX1ponO"
      },
      "execution_count": null,
      "outputs": []
    },
    {
      "cell_type": "code",
      "source": [
        "\n",
        "# Creation de SparkSession\n",
        "spark = SparkSession.builder.appName(\"CSVRead\").getOrCreate()\n",
        "df = spark.read.csv('/PBAL_Parc compteur_202409.csv', sep=';', header=True, inferSchema=True)\n",
        "\n",
        "df.show()"
      ],
      "metadata": {
        "colab": {
          "base_uri": "https://localhost:8080/"
        },
        "id": "Q5yjx4Oepop5",
        "outputId": "d5c95eb5-5f73-43f3-9629-04e58c9c7d3f"
      },
      "execution_count": null,
      "outputs": [
        {
          "output_type": "stream",
          "name": "stdout",
          "text": [
            "+--------+--------------------+-----------------+------------------+---------------------+----------------+-----------------------+-------------+-----------+-----------+------------+------------+--------------------+--------------------+--------+-----------------+-----------------+-----------------+---------------------+--------------+-----------+--------------------+----------+----------------+--------------------+--------------------+---------+------------------------+----------+---------------+---------------+-------------+--------------------+-------------------+------+----------+-------------------+------------+-------------------+--------------+------------------+---------+------+-------------+-----------------+---------------+----------------+--------------+----------------+---------+----------------+-------------------+----------+-------------+-----------------+-----------------+------------------+-----+--------------------+------------------+---------------------+---------+---------+---------+---------+--------------------+---+------+-------+---------+--------------+--------+-----------+---------------+-------------------+----------+---------------------------+-------------------+---------------+------------------+------------------+--------+-------------------+----------------+-----------------------+------------+----------+-----+------+------+------+------+------+------+------+------+------+-----------+-------------+---------+---------+--------------+-------+\n",
            "|      PB|CONTRAT_RATTACHEMENT|          COMMUNE|CODE_CYCLE_SERVICE|LIBELLE_CYCLE_SERVICE|    CODE_TOURNEE|LIBELLE_TOURNEE_SERVICE|TOURNEE_OPALE|SEQ_TOURNEE|ID_COMPTEUR|NUMERO_BADGE|NUMERO_SERIE|           FABRICANT|              MODELE|DIAMETRE|ANNEE_FABRICATION|SOLUTION_COMPACTE|SOLUTION_DEPORTEE|PASSERELLE_SITE_ISOLE|DATE_RECEPTION|DATE_DEPOSE|MATRICULE_EQUIPEMENT|ACCESSIBLE|CODE_EMPLACEMENT| LIBELLE_EMPLACEMENT|DETAILS_EMPLACEMENTS|   ID_PDS|DATE_MISE_EN_SERVICE_PDS|  ETAT_PDS|ETAT_SOURCE_PDS|LOGEMENT_VACANT|      GEN_DIV| RACCORDE_RACORDABLE|DATE_RACCORDABILITE| USAGE|    FLUIDE|MAT_BRANCH_AV_COMPT|MAT_AP_COMPT|CALIBRE_BRANCHEMENT|MODE_DE_RELEVE|BRANCHEMENT_FICTIF|  ID_SITE|FORAGE|NUM_VOIE_SITE|     COMMUNE_SITE|CODE_INSEE_SITE|CODE_POSTAL_SITE|ANC_A_FACTURER|BASSINS_VERSANTS|NOMBRE_UL|ID_COMPTE_CLIENT|ANCIENNE_REF_CLIENT|MENSUALISE|CLASSE_CLIENT|   COMMUNE_CLIENT|CODE_INSEE_CLIENT|CODE_POSTAL_CLIENT|  CMJ|DATE_DERNIERE_RELEVE|       TYPE_RELEVE|INDEX_DERNIERE_RELEVE|CODE_REM1|CODE_REM2|CODE_REM3|CODE_REM4|DT_FIN_CONTRAT_CADRE|CGC|MO_RES|NAT_REJ|IMPS_TRRR|     TYPE_SITE|CODE_NAF|LIBELLE_NAF|PDS_STRATEGIQUE|CARNET_METROLOGIQUE| ID_ACTEUR|NATURE_CONTRAT_RATTACHEMENT|NATURE_SERV_EAU_ASS|CODE_PROTECTION|ID_DERNIERE_RELEVE|VOLUME_FORAGE_SITE|EFACTURE|CODE_REF_AGENCE_EAU|L_REF_AGENCE_EAU|L_MOD_CONTACT_PRIVILEGE|CODE_HEXAVIA|ID_PDS_GEN|SIRET|NB_LOG|NB_MIG|NB_PRO|NB_TOU|NB_UG1|NB_UG2|NB_UG3|NB_UG4|NB_UG5|FLG_ENT_NAT|SOURCE_RELEVE|CODE_INT1|CODE_INT2|SIRET_EMETTEUR|FACTURE|\n",
            "+--------+--------------------+-----------------+------------------+---------------------+----------------+-----------------------+-------------+-----------+-----------+------------+------------+--------------------+--------------------+--------+-----------------+-----------------+-----------------+---------------------+--------------+-----------+--------------------+----------+----------------+--------------------+--------------------+---------+------------------------+----------+---------------+---------------+-------------+--------------------+-------------------+------+----------+-------------------+------------+-------------------+--------------+------------------+---------+------+-------------+-----------------+---------------+----------------+--------------+----------------+---------+----------------+-------------------+----------+-------------+-----------------+-----------------+------------------+-----+--------------------+------------------+---------------------+---------+---------+---------+---------+--------------------+---+------+-------+---------+--------------+--------+-----------+---------------+-------------------+----------+---------------------------+-------------------+---------------+------------------+------------------+--------+-------------------+----------------+-----------------------+------------+----------+-----+------+------+------+------+------+------+------+------+------+-----------+-------------+---------+---------+--------------+-------+\n",
            "|PB ALBOU| AQUAWASH DT - 42257|BOIGNY SUR BIONNE|  0DYL            | BOIGNY SUR BIONNE...|0DYL            |   BOIGNY SUR BIONNE...|          1.0|       9700| 8361561125|  1581412316| H24VA169824|Sappel - Diehl Me...|ALTAIR V4 composi...|      15|             2024|              Oui|              Oui|                  Oui|    04/09/2024|       NULL|    11A5241011931007|       OUI|            AJ  | Jardin - Accessible|       JARDIN CHIENS|  6447593|              01/01/2009|En service|         Ouvert|      NON      |Normal       |Raccordable raccordé|         05/09/2024|Normal|Eau Froide|            Inconnu|     Inconnu|               NULL|   Télé-Relevé|              NULL|  5734466|  NULL|           51|BOIGNY SUR BIONNE|          45034|           45760|          NULL|            NULL|     NULL|      9573027089|   0769603401027901|       NON|  Particulier|BOIGNY SUR BIONNE|            45034|             45760|0,101|          04/09/2024|            Normal|                    0|     NULL|     NULL|     NULL|     NULL|          30/09/2031|Non|  NULL|   NULL|     NULL|     01 Maison|    NULL|       NULL|           NULL|               AKDQ|2089525014|                        DSP|                EAU|           NULL|         8,366E+11|              NULL|     Non|               NULL|            NULL|      Pas de préférence|      876561|      NULL| NULL|  NULL|  NULL|  NULL|  NULL|  NULL|  NULL|  NULL|  NULL|  NULL|        Non|Relève à pied|     NULL|     NULL|   9,80683E+13|    OUI|\n",
            "|PB ALBOU| AQUAWASH DT - 42257|BOIGNY SUR BIONNE|  0DYL            | BOIGNY SUR BIONNE...|0DYL            |   BOIGNY SUR BIONNE...|          1.0|       6500| 8676907387|  1581250045| A12HA184639|   ABB Kent - Elster|     V100 ou PSMT PC|      15|             2012|              Non|              Non|                  Non|    14/12/2020|       NULL|                NULL|       OUI|            AJ  | Jardin - Accessible|              JARDIN| 14351824|              01/01/2012|En service|         Ouvert|      NON      |Normal       |Raccordable raccordé|         01/01/2012|Normal|Eau Froide|            Inconnu|     Inconnu|               NULL|        A pied|              NULL| 13000270|  NULL|           14|BOIGNY SUR BIONNE|          45034|           45760|          NULL|            NULL|     NULL|      9602248704|   0769603401034601|       OUI|  Particulier|BOIGNY SUR BIONNE|            45034|             45760| 0,89|          08/07/2024|Estimation système|                 2848|     NULL|     NULL|     NULL|     NULL|          30/09/2031|Non|  NULL|   NULL|     NULL|     01 Maison|    NULL|       NULL|           NULL|        A12HA184639| 838272009|                        DSP|                EAU|           NULL|       8,67911E+11|              NULL|     Non|               NULL|            NULL|      Pas de préférence|      876561|      NULL| NULL|  NULL|  NULL|  NULL|  NULL|  NULL|  NULL|  NULL|  NULL|  NULL|        Non|         NULL|     NULL|     NULL|   9,80683E+13|    OUI|\n",
            "|PB ALBOU| AQUAWASH DT - 42257|BOIGNY SUR BIONNE|  0DYN            | BOIGNY SUR BIONNE...|0DYN            |   BOIGNY SUR BIONNE...|          1.0|       8200| 7193175514|  1581257427| H22VA087512|Sappel - Diehl Me...|ALTAIR V4 composi...|      15|             2022|              Oui|              Oui|                  Oui|    05/12/2022|       NULL|                NULL|       OUI|            AC  |   Cave - Accessible|              MAISON| 15775315|              04/03/2022|En service|         Ouvert|      NON      |Normal       |Raccordable raccordé|         04/03/2022|Normal|Eau Froide|            Inconnu|     Inconnu|               NULL|        A pied|              NULL| 13165782|  NULL|           17|BOIGNY SUR BIONNE|          45034|           45760|          NULL|            NULL|     NULL|      3995295727|   0769603401059601|       NON|  Particulier|BOIGNY SUR BIONNE|            45034|             45760|0,365|          08/07/2024|Estimation système|                  314|     NULL|     NULL|     NULL|     NULL|          30/09/2031|Non|  NULL|   NULL|     NULL|     01 Maison|    NULL|       NULL|           NULL|        H22VA087512|3766466069|                        DSP|                EAU|           NULL|       7,19683E+11|              NULL|     Non|               NULL|            NULL|      Pas de préférence|      876546|      NULL| NULL|  NULL|  NULL|  NULL|  NULL|  NULL|  NULL|  NULL|  NULL|  NULL|        Non|         NULL|     NULL|     NULL|   9,80683E+13|    OUI|\n",
            "|PB ALBOU| AQUAWASH DT - 42257|BOIGNY SUR BIONNE|  0DYM            | BOIGNY SUR BIONNE...|0DYM            |   BOIGNY SUR BIONNE...|          1.0|      16000| 6808431272|  1581257036| I21LA342638|         Itron - MID|Aquadis+ MID comp...|      15|             2021|              Oui|              Oui|                  Oui|    08/12/2021|       NULL|                NULL|       OUI|            AJ  | Jardin - Accessible|        JARDIN CHIEN| 19972677|              25/08/2021|En service|         Ouvert|      NON      |Normal       |     Non Raccordable|         25/08/2021|Normal|Eau Froide|            Inconnu|     Inconnu|               NULL|        A pied|              NULL| 19069844|  NULL|          733|BOIGNY SUR BIONNE|          45034|           45760|          NULL|            NULL|     NULL|      3172258162|   0769603401081901|       NON|  Particulier|BOIGNY SUR BIONNE|            45034|             45760|0,398|          08/07/2024|Estimation système|                  419|     NULL|     NULL|     NULL|     NULL|          30/09/2031|Non|  NULL|   NULL|     NULL|     01 Maison|    NULL|       NULL|           NULL|        I21LA342638|7230005821|                        DSP|                EAU|           NULL|       6,80704E+11|              NULL|     Non|               NULL|            NULL|      Pas de préférence|      876577|      NULL| NULL|  NULL|  NULL|  NULL|  NULL|  NULL|  NULL|  NULL|  NULL|  NULL|        Non|         NULL|     NULL|     NULL|   9,80683E+13|    OUI|\n",
            "|PB ALBOU| AQUAWASH DT - 42257|BOIGNY SUR BIONNE|  0DYN            | BOIGNY SUR BIONNE...|0DYN            |   BOIGNY SUR BIONNE...|          1.0|      31200| 5278203184|  1581253384| H23VA431106|Sappel - Diehl Me...|ALTAIR V4 composi...|      15|             2023|              Oui|              Oui|                  Oui|    01/01/2024|       NULL|                NULL|       OUI|            AJ  | Jardin - Accessible|              JARDIN| 40591673|              05/09/2023|En service|         Ouvert|      NON      |Normal       |Raccordable raccordé|         05/09/2023|Normal|Eau Froide|            Inconnu|     Inconnu|               NULL|        A pied|              NULL| 42818254|  NULL|           32|BOIGNY SUR BIONNE|          45034|           45760|          NULL|            NULL|     NULL|      3991346832|   0769603401004101|       NON|  Particulier|BOIGNY SUR BIONNE|            45034|             45760|    0|          08/07/2024|Estimation système|                   77|     NULL|     NULL|     NULL|     NULL|          30/09/2031|Non|  NULL|   NULL|     NULL|     01 Maison|    NULL|       NULL|           NULL|        H23VA431106|5662208681|                        DSP|                EAU|           NULL|       5,27519E+11|              NULL|     Non|               NULL|            NULL|      Pas de préférence|      876551|      NULL| NULL|  NULL|  NULL|  NULL|  NULL|  NULL|  NULL|  NULL|  NULL|  NULL|        Non|         NULL|     NULL|     NULL|   9,80683E+13|    OUI|\n",
            "|PB ALBOU| AQUAWASH DT - 42257|BOIGNY SUR BIONNE|  0DYM            | BOIGNY SUR BIONNE...|0DYM            |   BOIGNY SUR BIONNE...|          1.0|      16100| 1605119344|  1581258248| H20VA054932|Sappel - Diehl Me...|ALTAIR V4 composi...|      15|             2020|              Oui|              Oui|                  Oui|    14/12/2020|       NULL|    11A5242310201007|       OUI|            AT  |Trottoir - Access...|           DOM PUBLI| 43742351|              06/10/2020|En service|         Ouvert|      NON      |Normal       |     Non Raccordable|         28/08/2024|Normal|Eau Froide|            Inconnu|     Inconnu|               NULL|   Télé-Relevé|              NULL| 49346034|  NULL|          746|BOIGNY SUR BIONNE|          45034|           45760|          NULL|            NULL|     NULL|      8884403223|   0769603401082001|       NON|  Particulier|BOIGNY SUR BIONNE|            45034|             45760|0,182|          08/07/2024|Estimation système|                  253|     NULL|     NULL|     NULL|     NULL|          30/09/2031|Non|  NULL|   NULL|     NULL|     01 Maison|    NULL|       NULL|           NULL|        H20VA054932|7024732098|                        DSP|                EAU|           NULL|       1,60656E+11|              NULL|     Non|               NULL|            NULL|      Pas de préférence|      876577|      NULL| NULL|  NULL|  NULL|  NULL|  NULL|  NULL|  NULL|  NULL|  NULL|  NULL|        Non|         NULL|     NULL|     NULL|   9,80683E+13|    OUI|\n",
            "|PB ALBOU| AQUAWASH DT - 42257|BOIGNY SUR BIONNE|  0DYN            | BOIGNY SUR BIONNE...|0DYN            |   BOIGNY SUR BIONNE...|          1.0|      21700| 5887444559|  1581256756|     184080A|             INCONNU|   INCONNU : inconnu|      15|             2000|              Non|              Non|                  Non|    16/02/2021|       NULL|                NULL|       OUI|            AT  |Trottoir - Access...|              REGARD| 47298145|              01/01/2000|En service|         Ouvert|      NON      |Normal       |Raccordable raccordé|         01/01/2000|Normal|Eau Froide|            Inconnu|     Inconnu|               NULL|        A pied|              NULL| 42648086|  NULL|           17|BOIGNY SUR BIONNE|          45034|           45760|          NULL|            NULL|     NULL|      7885541414|   0769603401085202|       NON|  Particulier|BOIGNY SUR BIONNE|            45034|             45760|0,225|          08/07/2024|Estimation système|                 2613|     NULL|     NULL|     NULL|     NULL|          30/09/2031|Non|  NULL|   NULL|     NULL|     01 Maison|    NULL|       NULL|           NULL|            184080A|1214540442|                        DSP|                EAU|           NULL|       5,88735E+11|              NULL|     Non|               NULL|            NULL|      Pas de préférence|     2918423|      NULL| NULL|  NULL|  NULL|  NULL|  NULL|  NULL|  NULL|  NULL|  NULL|  NULL|        Non|         NULL|     NULL|     NULL|   9,80683E+13|    OUI|\n",
            "|PB ALBOU| AQUAWASH DT - 42257|BOIGNY SUR BIONNE|  0DYM            | BOIGNY SUR BIONNE...|0DYM            |   BOIGNY SUR BIONNE...|          1.0|       3900| 9164544208|  1581250546| H19VA094532|Sappel - Diehl Me...|ALTAIR V4 composi...|      15|             2019|              Oui|              Oui|                  Oui|    14/12/2020|       NULL|                NULL|       OUI|            AJ  | Jardin - Accessible|JARDIN APPT A07 D...| 50755737|              30/09/2019|En service|         Ouvert|      NON      |Divisionnaire|Raccordable raccordé|         30/09/2019|Normal|Eau Froide|            Inconnu|     Inconnu|               NULL|        A pied|              NULL| 57397513|  NULL|           14|BOIGNY SUR BIONNE|          45034|           45760|          NULL|            NULL|     NULL|      4906734978|   0769603401095402|       NON|  Particulier|BOIGNY SUR BIONNE|            45034|             45760|0,068|          08/07/2024|Estimation système|                  116|     NULL|     NULL|     NULL|     NULL|          30/09/2031|Non|  NULL|   NULL|     NULL|02 Appartement|    NULL|       NULL|           NULL|        H19VA094532|7000960204|                        DSP|                EAU|           NULL|       9,16076E+11|              NULL|     Non|               NULL|            NULL|      Pas de préférence|      876543|9322547552| NULL|  NULL|  NULL|  NULL|  NULL|  NULL|  NULL|  NULL|  NULL|  NULL|        Non|         NULL|     NULL|     NULL|   9,80683E+13|    OUI|\n",
            "|PB ALBOU| AQUAWASH DT - 42257|BOIGNY SUR BIONNE|  0DYL            | BOIGNY SUR BIONNE...|0DYL            |   BOIGNY SUR BIONNE...|          1.0|       7400| 3751726586|  1581257712| I23LA113287|         Itron - MID|Aquadis+ MID comp...|      15|             2023|              Oui|              Oui|                  Oui|    01/01/2024|       NULL|                NULL|       OUI|            AJ  | Jardin - Accessible|              JARDIN| 59439470|              02/03/2023|En service|         Ouvert|      NON      |Normal       |Raccordable raccordé|         02/03/2023|Normal|Eau Froide|            Inconnu|     Inconnu|               NULL|        A pied|              NULL| 50377473|  NULL|           23|BOIGNY SUR BIONNE|          45034|           45760|          NULL|            NULL|     NULL|       661118817|   0769603401029701|       NON|  Particulier|BOIGNY SUR BIONNE|            45034|             45760|    0|          08/07/2024|Estimation système|                   73|     NULL|     NULL|     NULL|     NULL|          30/09/2031|Non|  NULL|   NULL|     NULL|     01 Maison|    NULL|       NULL|           NULL|        I23LA113287|9509692881|                        DSP|                EAU|           NULL|       3,75831E+11|              NULL|     Non|               NULL|            NULL|      Pas de préférence|      876561|      NULL| NULL|  NULL|  NULL|  NULL|  NULL|  NULL|  NULL|  NULL|  NULL|  NULL|        Non|         NULL|     NULL|     NULL|   9,80683E+13|    OUI|\n",
            "|PB ALBOU| AQUAWASH DT - 42257|BOIGNY SUR BIONNE|  0DYM            | BOIGNY SUR BIONNE...|0DYM            |   BOIGNY SUR BIONNE...|          1.0|      14300| 8867591196|  1581249334| I21LA403225|         Itron - MID|Aquadis+ MID comp...|      15|             2021|              Oui|              Oui|                  Oui|    05/01/2022|       NULL|    2697241186341007|       OUI|            AJ  | Jardin - Accessible|              JARDIN| 77996828|              07/01/2022|En service|         Ouvert|      NON      |Normal       |     Non Raccordable|         03/09/2024|Normal|Eau Froide|            Inconnu|     Inconnu|               NULL|   Télé-Relevé|              NULL| 73541201|  NULL|          334|BOIGNY SUR BIONNE|          45034|           45760|          NULL|            NULL|     NULL|      8325791153|   0769603401080002|       NON|  Particulier|BOIGNY SUR BIONNE|            45034|             45760| 0,51|          08/07/2024|Estimation système|                  466|     NULL|     NULL|     NULL|     NULL|          30/09/2031|Non|  NULL|   NULL|     NULL|     01 Maison|    NULL|       NULL|           NULL|        I21LA403225|7900855163|                        DSP|                EAU|           NULL|       8,86655E+11|              NULL|     Non|               NULL|            NULL|      Pas de préférence|      876577|      NULL| NULL|  NULL|  NULL|  NULL|  NULL|  NULL|  NULL|  NULL|  NULL|  NULL|        Non|         NULL|     NULL|     NULL|   9,80683E+13|    OUI|\n",
            "|PB ALBOU| AQUAWASH DT - 42257|BOIGNY SUR BIONNE|  0DYM            | BOIGNY SUR BIONNE...|0DYM            |   BOIGNY SUR BIONNE...|          1.0|      13600| 6570318339|  1581256111| E08KA440750|Invensys - Socam ...|       610, 620, 630|      15|             2008|              Non|              Oui|                  Oui|    15/12/2020|       NULL|                NULL|       OUI|            AD  |Galerie technique...|            INDEFINI| 79323169|              01/01/2008|En service|         Ouvert|      NON      |Normal       |     Non Raccordable|         01/01/2008|Normal|Eau Froide|            Inconnu|     Inconnu|               NULL|        A pied|              NULL| 77098514|  NULL|          115|BOIGNY SUR BIONNE|          45034|           45760|          NULL|            NULL|     NULL|      6575960193|   0769603401078701|       NON|  Particulier|BOIGNY SUR BIONNE|            45034|             45760|0,219|          08/07/2024|Estimation système|                 1727|     NULL|     NULL|     NULL|     NULL|          30/09/2031|Non|  NULL|   NULL|     NULL|     01 Maison|    NULL|       NULL|           NULL|        E08KA440750|4532494758|                        DSP|                EAU|           NULL|       6,57884E+11|              NULL|     Non|               NULL|            NULL|      Pas de préférence|      876577|      NULL| NULL|  NULL|  NULL|  NULL|  NULL|  NULL|  NULL|  NULL|  NULL|  NULL|        Non|         NULL|     NULL|     NULL|   9,80683E+13|    OUI|\n",
            "|PB ALBOU| AQUAWASH DT - 42257|BOIGNY SUR BIONNE|  0DYN            | BOIGNY SUR BIONNE...|0DYN            |   BOIGNY SUR BIONNE...|          1.0|      10100| 5358608487|  1581249974| I23LA046940|         Itron - MID|Aquadis+ MID comp...|      15|             2023|              Oui|              Oui|                  Oui|    01/01/2024|       NULL|    2697241611311007|       OUI|            AT  |Trottoir - Access...|           DOM PUBLI|106987376|              06/02/2023|En service|         Ouvert|      NON      |Normal       |Raccordable raccordé|         27/08/2024|Normal|Eau Froide|            Inconnu|     Inconnu|               NULL|   Télé-Relevé|              NULL|101970576|  NULL|            1|BOIGNY SUR BIONNE|          45034|           45760|          NULL|            NULL|     NULL|      3060441239|   0769603401031601|       NON|  Particulier|BOIGNY SUR BIONNE|            45034|             45760|    0|          08/07/2024|Estimation système|                  115|     NULL|     NULL|     NULL|     NULL|          30/09/2031|Non|  NULL|   NULL|     NULL|     01 Maison|    NULL|       NULL|           NULL|        I23LA046940|3013956293|                        DSP|                EAU|           NULL|       5,35437E+11|              NULL|     Non|               NULL|            NULL|      Pas de préférence|     4123359|      NULL| NULL|  NULL|  NULL|  NULL|  NULL|  NULL|  NULL|  NULL|  NULL|  NULL|        Non|         NULL|     NULL|     NULL|   9,80683E+13|    OUI|\n",
            "|PB ALBOU| AQUAWASH DT - 42257|BOIGNY SUR BIONNE|  0DYM            | BOIGNY SUR BIONNE...|0DYM            |   BOIGNY SUR BIONNE...|          1.0|      36000| 7658646675|  1581256661| I22LA120025|         Itron - MID|Aquadis+ MID comp...|      15|             2022|              Oui|              Oui|                  Oui|    21/06/2022|       NULL|                NULL|       OUI|            AD  |Galerie technique...|            INDEFINI|108119375|              21/06/2022|En service|         Ouvert|      NON      |Normal       |Raccordable raccordé|         21/06/2022|Normal|Eau Froide|            Inconnu|     Inconnu|               NULL|        A pied|              NULL|104760628|  NULL|           22|BOIGNY SUR BIONNE|          45034|           45760|          NULL|            NULL|     NULL|      2188496619|   0769603401115101|       NON|  Particulier|BOIGNY SUR BIONNE|            45034|             45760|0,057|          08/07/2024|Estimation système|                   43|     NULL|     NULL|     NULL|     NULL|          30/09/2031|Non|  NULL|   NULL|     NULL|     01 Maison|    NULL|       NULL|           NULL|        I22LA120025|6690186242|                        DSP|                EAU|           NULL|       7,65707E+11|              NULL|     Non|               NULL|            NULL|      Pas de préférence|     4788919|      NULL| NULL|  NULL|  NULL|  NULL|  NULL|  NULL|  NULL|  NULL|  NULL|  NULL|        Non|         NULL|     NULL|     NULL|   9,80683E+13|    OUI|\n",
            "|PB ALBOU| AQUAWASH DT - 42257|BOIGNY SUR BIONNE|  0DYL            | BOIGNY SUR BIONNE...|0DYL            |   BOIGNY SUR BIONNE...|          1.0|      31500| 5543954700|  1581411090| H24VA017876|Sappel - Diehl Me...|ALTAIR V4 composi...|      15|             2024|              Oui|              Oui|                  Oui|    03/09/2024|       NULL|    11A5232904581007|       OUI|            AJ  | Jardin - Accessible|              JARDIN|110576941|              01/01/2012|En service|         Ouvert|      NON      |Normal       |Raccordable raccordé|         03/09/2024|Normal|Eau Froide|            Inconnu|     Inconnu|               NULL|   Télé-Relevé|              NULL|110364811|  NULL|           47|BOIGNY SUR BIONNE|          45034|           45760|          NULL|            NULL|     NULL|      8695207802|   0769603401045301|       NON|  Particulier|BOIGNY SUR BIONNE|            45034|             45760|0,062|          03/09/2024|            Normal|                    0|     NULL|     NULL|     NULL|     NULL|          30/09/2031|Non|  NULL|   NULL|     NULL|     01 Maison|    NULL|       NULL|           NULL|               AKDQ|2331001726|                        DSP|                EAU|           NULL|       5,54506E+11|              NULL|     Non|               NULL|            NULL|      Pas de préférence|      876554|      NULL| NULL|  NULL|  NULL|  NULL|  NULL|  NULL|  NULL|  NULL|  NULL|  NULL|        Non|Relève à pied|     NULL|     NULL|   9,80683E+13|    OUI|\n",
            "|PB ALBOU| AQUAWASH DT - 42257|BOIGNY SUR BIONNE|  0DYN            | BOIGNY SUR BIONNE...|0DYN            |   BOIGNY SUR BIONNE...|          1.0|      28700| 2708459937|  1581258625| H19VA094392|Sappel - Diehl Me...|ALTAIR V4 composi...|      15|             2019|              Oui|              Oui|                  Oui|    09/12/2020|       NULL|                NULL|       OUI|            AJ  | Jardin - Accessible|              JARDIN|122141932|              11/10/2019|En service|         Ouvert|      NON      |Normal       |Raccordable raccordé|         11/10/2019|Normal|Eau Froide|            Inconnu|     Inconnu|               NULL|        A pied|              NULL|124724993|  NULL|           12|BOIGNY SUR BIONNE|          45034|           45760|          NULL|            NULL|     NULL|       657145514|   0769603401001601|       OUI|  Particulier|BOIGNY SUR BIONNE|            45034|             45760|0,434|          08/07/2024|Estimation système|                  767|     NULL|     NULL|     NULL|     NULL|          30/09/2031|Non|  NULL|   NULL|     NULL|     01 Maison|    NULL|       NULL|           NULL|        H19VA094392|3032933393|                        DSP|                EAU|           NULL|       2,70692E+11|              NULL|     Non|               NULL|            NULL|      Pas de préférence|      876551|      NULL| NULL|  NULL|  NULL|  NULL|  NULL|  NULL|  NULL|  NULL|  NULL|  NULL|        Non|         NULL|     NULL|     NULL|   9,80683E+13|    OUI|\n",
            "|PB ALBOU| AQUAWASH DT - 42257|BOIGNY SUR BIONNE|  0DYN            | BOIGNY SUR BIONNE...|0DYN            |   BOIGNY SUR BIONNE...|          1.0|      27800| 8308623460|  1581250150| A12HA289599|   ABB Kent - Elster|     V100 ou PSMT PC|      15|             2012|              Non|              Non|                  Non|    09/12/2020|       NULL|                NULL|       OUI|            AJ  | Jardin - Accessible|              JARDIN|126680497|              01/01/2012|En service|         Ouvert|      NON      |Normal       |Raccordable raccordé|         01/01/2012|Normal|Eau Froide|            Inconnu|     Inconnu|               NULL|        A pied|              NULL|128586945|  NULL|            3|BOIGNY SUR BIONNE|          45034|           45760|          NULL|            NULL|     NULL|       489313420|   0769603401000701|       NON|  Particulier|BOIGNY SUR BIONNE|            45034|             45760|0,055|          08/07/2024|Estimation système|                  523|     NULL|     NULL|     NULL|     NULL|          30/09/2031|Non|  NULL|   NULL|     NULL|     01 Maison|    NULL|       NULL|           NULL|        A12HA289599| 135933155|                        DSP|                EAU|           NULL|       8,30491E+11|              NULL|     Non|               NULL|            NULL|      Pas de préférence|      876551|      NULL| NULL|  NULL|  NULL|  NULL|  NULL|  NULL|  NULL|  NULL|  NULL|  NULL|        Non|         NULL|     NULL|     NULL|   9,80683E+13|    OUI|\n",
            "|PB ALBOU| AQUAWASH DT - 42257|BOIGNY SUR BIONNE|  0DYL            | BOIGNY SUR BIONNE...|0DYL            |   BOIGNY SUR BIONNE...|          1.0|        800| 4020605108|  1581252034| A11FA292877|   ABB Kent - Elster| \"V200P \"\"Polymer\"\"\"|      15|             2011|              Non|              Non|                  Non|    10/12/2020|       NULL|                NULL|       NON|            NJ  |Jardin - Non acce...|       JARDIN DROITE|127895943|              01/01/2011|En service|         Ouvert|      NON      |Normal       |Raccordable raccordé|         01/01/2011|Normal|Eau Froide|            Inconnu|     Inconnu|               NULL|        A pied|              NULL|128968514|  NULL|            4|BOIGNY SUR BIONNE|          45034|           45760|          NULL|            NULL|     NULL|       687779445|   0769603401012701|       NON|  Particulier|BOIGNY SUR BIONNE|            45034|             45760|0,066|          08/07/2024|Estimation système|                  328|     NULL|     NULL|     NULL|     NULL|          30/09/2031|Non|  NULL|   NULL|     NULL|     01 Maison|    NULL|       NULL|           NULL|        A11FA292877|8045057051|                        DSP|                EAU|           NULL|       4,02521E+11|              NULL|     Non|               NULL|            NULL|      Pas de préférence|      876584|      NULL| NULL|  NULL|  NULL|  NULL|  NULL|  NULL|  NULL|  NULL|  NULL|  NULL|        Non|         NULL|     NULL|     NULL|   9,80683E+13|    OUI|\n",
            "|PB ALBOU| AQUAWASH DT - 42257|BOIGNY SUR BIONNE|  0DYL            | BOIGNY SUR BIONNE...|0DYL            |   BOIGNY SUR BIONNE...|          1.0|      30800| 8255034737|  1581256264| A12HA143666|   ABB Kent - Elster|     V100 ou PSMT PC|      15|             2012|              Non|              Non|                  Non|    14/12/2020|       NULL|                NULL|       OUI|            AJ  | Jardin - Accessible|              JARDIN|140203178|              01/01/2012|En service|         Ouvert|      NON      |Normal       |Raccordable raccordé|         01/01/2012|Normal|Eau Froide|            Inconnu|     Inconnu|               NULL|        A pied|              NULL|143882858|  NULL|           40|BOIGNY SUR BIONNE|          45034|           45760|          NULL|            NULL|     NULL|      1043915442|   0769603401039001|       NON|  Particulier|BOIGNY SUR BIONNE|            45034|             45760|0,126|          08/07/2024|Estimation système|                  576|     NULL|     NULL|     NULL|     NULL|          30/09/2031|Non|  NULL|   NULL|     NULL|     01 Maison|    NULL|       NULL|           NULL|        A12HA143666|1346156320|                        DSP|                EAU|           NULL|       8,25829E+11|              NULL|     Non|               NULL|            NULL|      Pas de préférence|      876554|      NULL| NULL|  NULL|  NULL|  NULL|  NULL|  NULL|  NULL|  NULL|  NULL|  NULL|        Non|         NULL|     NULL|     NULL|   9,80683E+13|    OUI|\n",
            "|PB ALBOU| AQUAWASH DT - 42257|BOIGNY SUR BIONNE|  0DYN            | BOIGNY SUR BIONNE...|0DYN            |   BOIGNY SUR BIONNE...|          1.0|      30400| 6324190272|  1581253373| A12HA184761|   ABB Kent - Elster|     V100 ou PSMT PC|      15|             2012|              Non|              Non|                  Non|    09/12/2020|       NULL|                NULL|       OUI|            AJ  | Jardin - Accessible|              JARDIN|149601596|              01/01/2012|En service|         Ouvert|      NON      |Normal       |Raccordable raccordé|         01/01/2012|Normal|Eau Froide|            Inconnu|     Inconnu|               NULL|        A pied|              NULL|140908311|  NULL|           30|BOIGNY SUR BIONNE|          45034|           45760|          NULL|            NULL|     NULL|      4421790510|   0769603401003901|       OUI|  Particulier|BOIGNY SUR BIONNE|            45034|             45760|0,166|          08/07/2024|Estimation système|                  701|     NULL|     NULL|     NULL|     NULL|          30/09/2031|Non|  NULL|   NULL|     NULL|     01 Maison|    NULL|       NULL|           NULL|        A12HA184761|8534897233|                        DSP|                EAU|           NULL|       6,32148E+11|              NULL|     Non|               NULL|            NULL|      Pas de préférence|      876551|      NULL| NULL|  NULL|  NULL|  NULL|  NULL|  NULL|  NULL|  NULL|  NULL|  NULL|        Non|         NULL|     NULL|     NULL|   9,80683E+13|    OUI|\n",
            "|PB ALBOU| AQUAWASH DT - 42257|BOIGNY SUR BIONNE|  0DYN            | BOIGNY SUR BIONNE...|0DYN            |   BOIGNY SUR BIONNE...|          1.0|      30000| 9442196172|  1581260291| A12HA184759|   ABB Kent - Elster|     V100 ou PSMT PC|      15|             2012|              Non|              Non|                  Non|    09/12/2020|       NULL|                NULL|       OUI|            AJ  | Jardin - Accessible|              JARDIN|151747473|              01/01/2012|En service|         Ouvert|      NON      |Normal       |Raccordable raccordé|         01/01/2012|Normal|Eau Froide|            Inconnu|     Inconnu|               NULL|        A pied|              NULL|156946891|  NULL|           25|BOIGNY SUR BIONNE|          45034|           45760|          NULL|            NULL|     NULL|      1414008067|   0769603401002901|       OUI|  Particulier|BOIGNY SUR BIONNE|            45034|             45760|0,327|          08/07/2024|Estimation système|                 1785|     NULL|     NULL|     NULL|     NULL|          30/09/2031|Non|  NULL|   NULL|     NULL|     01 Maison|    NULL|       NULL|           NULL|        A12HA184759|3470543882|                        DSP|                EAU|           NULL|       9,44356E+11|              NULL|     Non|               NULL|            NULL|      Pas de préférence|      876551|      NULL| NULL|  NULL|  NULL|  NULL|  NULL|  NULL|  NULL|  NULL|  NULL|  NULL|        Non|         NULL|     NULL|     NULL|   9,80683E+13|    OUI|\n",
            "+--------+--------------------+-----------------+------------------+---------------------+----------------+-----------------------+-------------+-----------+-----------+------------+------------+--------------------+--------------------+--------+-----------------+-----------------+-----------------+---------------------+--------------+-----------+--------------------+----------+----------------+--------------------+--------------------+---------+------------------------+----------+---------------+---------------+-------------+--------------------+-------------------+------+----------+-------------------+------------+-------------------+--------------+------------------+---------+------+-------------+-----------------+---------------+----------------+--------------+----------------+---------+----------------+-------------------+----------+-------------+-----------------+-----------------+------------------+-----+--------------------+------------------+---------------------+---------+---------+---------+---------+--------------------+---+------+-------+---------+--------------+--------+-----------+---------------+-------------------+----------+---------------------------+-------------------+---------------+------------------+------------------+--------+-------------------+----------------+-----------------------+------------+----------+-----+------+------+------+------+------+------+------+------+------+-----------+-------------+---------+---------+--------------+-------+\n",
            "only showing top 20 rows\n",
            "\n"
          ]
        }
      ]
    },
    {
      "cell_type": "code",
      "source": [
        "from pyspark.sql.functions import to_date, to_timestamp\n",
        "\n",
        "# Trouver les colonnes contenant \"date\" dans leur nom\n",
        "date_columns = [col for col in df.columns if \"date\" in col.lower()]\n",
        "\n",
        "# Convertir chaque colonne de type date en datetime\n",
        "for col_name in date_columns:\n",
        "    df = df.withColumn(col_name, to_timestamp(df[col_name], \"yyyy-MM-dd HH:mm:ss\"))  # Ajustez le format si nécessaire\n",
        "\n",
        "# Vérifier les résultats\n",
        "df.printSchema()\n",
        "df.show(5)"
      ],
      "metadata": {
        "id": "eyITjWX6posl",
        "colab": {
          "base_uri": "https://localhost:8080/"
        },
        "outputId": "418cd51b-0de0-4f45-f581-d55f5e7f037a"
      },
      "execution_count": null,
      "outputs": [
        {
          "output_type": "stream",
          "name": "stdout",
          "text": [
            "root\n",
            " |-- PB: string (nullable = true)\n",
            " |-- CONTRAT_RATTACHEMENT: string (nullable = true)\n",
            " |-- COMMUNE: string (nullable = true)\n",
            " |-- CODE_CYCLE_SERVICE: string (nullable = true)\n",
            " |-- LIBELLE_CYCLE_SERVICE: string (nullable = true)\n",
            " |-- CODE_TOURNEE: string (nullable = true)\n",
            " |-- LIBELLE_TOURNEE_SERVICE: string (nullable = true)\n",
            " |-- TOURNEE_OPALE: double (nullable = true)\n",
            " |-- SEQ_TOURNEE: integer (nullable = true)\n",
            " |-- ID_COMPTEUR: long (nullable = true)\n",
            " |-- NUMERO_BADGE: integer (nullable = true)\n",
            " |-- NUMERO_SERIE: string (nullable = true)\n",
            " |-- FABRICANT: string (nullable = true)\n",
            " |-- MODELE: string (nullable = true)\n",
            " |-- DIAMETRE: integer (nullable = true)\n",
            " |-- ANNEE_FABRICATION: integer (nullable = true)\n",
            " |-- SOLUTION_COMPACTE: string (nullable = true)\n",
            " |-- SOLUTION_DEPORTEE: string (nullable = true)\n",
            " |-- PASSERELLE_SITE_ISOLE: string (nullable = true)\n",
            " |-- DATE_RECEPTION: timestamp (nullable = true)\n",
            " |-- DATE_DEPOSE: timestamp (nullable = true)\n",
            " |-- MATRICULE_EQUIPEMENT: string (nullable = true)\n",
            " |-- ACCESSIBLE: string (nullable = true)\n",
            " |-- CODE_EMPLACEMENT: string (nullable = true)\n",
            " |-- LIBELLE_EMPLACEMENT: string (nullable = true)\n",
            " |-- DETAILS_EMPLACEMENTS: string (nullable = true)\n",
            " |-- ID_PDS: long (nullable = true)\n",
            " |-- DATE_MISE_EN_SERVICE_PDS: timestamp (nullable = true)\n",
            " |-- ETAT_PDS: string (nullable = true)\n",
            " |-- ETAT_SOURCE_PDS: string (nullable = true)\n",
            " |-- LOGEMENT_VACANT: string (nullable = true)\n",
            " |-- GEN_DIV: string (nullable = true)\n",
            " |-- RACCORDE_RACORDABLE: string (nullable = true)\n",
            " |-- DATE_RACCORDABILITE: timestamp (nullable = true)\n",
            " |-- USAGE: string (nullable = true)\n",
            " |-- FLUIDE: string (nullable = true)\n",
            " |-- MAT_BRANCH_AV_COMPT: string (nullable = true)\n",
            " |-- MAT_AP_COMPT: string (nullable = true)\n",
            " |-- CALIBRE_BRANCHEMENT: integer (nullable = true)\n",
            " |-- MODE_DE_RELEVE: string (nullable = true)\n",
            " |-- BRANCHEMENT_FICTIF: string (nullable = true)\n",
            " |-- ID_SITE: long (nullable = true)\n",
            " |-- FORAGE: string (nullable = true)\n",
            " |-- NUM_VOIE_SITE: string (nullable = true)\n",
            " |-- COMMUNE_SITE: string (nullable = true)\n",
            " |-- CODE_INSEE_SITE: string (nullable = true)\n",
            " |-- CODE_POSTAL_SITE: integer (nullable = true)\n",
            " |-- ANC_A_FACTURER: string (nullable = true)\n",
            " |-- BASSINS_VERSANTS: string (nullable = true)\n",
            " |-- NOMBRE_UL: string (nullable = true)\n",
            " |-- ID_COMPTE_CLIENT: long (nullable = true)\n",
            " |-- ANCIENNE_REF_CLIENT: string (nullable = true)\n",
            " |-- MENSUALISE: string (nullable = true)\n",
            " |-- CLASSE_CLIENT: string (nullable = true)\n",
            " |-- COMMUNE_CLIENT: string (nullable = true)\n",
            " |-- CODE_INSEE_CLIENT: string (nullable = true)\n",
            " |-- CODE_POSTAL_CLIENT: string (nullable = true)\n",
            " |-- CMJ: string (nullable = true)\n",
            " |-- DATE_DERNIERE_RELEVE: timestamp (nullable = true)\n",
            " |-- TYPE_RELEVE: string (nullable = true)\n",
            " |-- INDEX_DERNIERE_RELEVE: integer (nullable = true)\n",
            " |-- CODE_REM1: string (nullable = true)\n",
            " |-- CODE_REM2: string (nullable = true)\n",
            " |-- CODE_REM3: string (nullable = true)\n",
            " |-- CODE_REM4: string (nullable = true)\n",
            " |-- DT_FIN_CONTRAT_CADRE: string (nullable = true)\n",
            " |-- CGC: string (nullable = true)\n",
            " |-- MO_RES: string (nullable = true)\n",
            " |-- NAT_REJ: string (nullable = true)\n",
            " |-- IMPS_TRRR: string (nullable = true)\n",
            " |-- TYPE_SITE: string (nullable = true)\n",
            " |-- CODE_NAF: string (nullable = true)\n",
            " |-- LIBELLE_NAF: string (nullable = true)\n",
            " |-- PDS_STRATEGIQUE: string (nullable = true)\n",
            " |-- CARNET_METROLOGIQUE: string (nullable = true)\n",
            " |-- ID_ACTEUR: long (nullable = true)\n",
            " |-- NATURE_CONTRAT_RATTACHEMENT: string (nullable = true)\n",
            " |-- NATURE_SERV_EAU_ASS: string (nullable = true)\n",
            " |-- CODE_PROTECTION: string (nullable = true)\n",
            " |-- ID_DERNIERE_RELEVE: string (nullable = true)\n",
            " |-- VOLUME_FORAGE_SITE: string (nullable = true)\n",
            " |-- EFACTURE: string (nullable = true)\n",
            " |-- CODE_REF_AGENCE_EAU: string (nullable = true)\n",
            " |-- L_REF_AGENCE_EAU: string (nullable = true)\n",
            " |-- L_MOD_CONTACT_PRIVILEGE: string (nullable = true)\n",
            " |-- CODE_HEXAVIA: integer (nullable = true)\n",
            " |-- ID_PDS_GEN: long (nullable = true)\n",
            " |-- SIRET: string (nullable = true)\n",
            " |-- NB_LOG: string (nullable = true)\n",
            " |-- NB_MIG: string (nullable = true)\n",
            " |-- NB_PRO: string (nullable = true)\n",
            " |-- NB_TOU: string (nullable = true)\n",
            " |-- NB_UG1: string (nullable = true)\n",
            " |-- NB_UG2: string (nullable = true)\n",
            " |-- NB_UG3: string (nullable = true)\n",
            " |-- NB_UG4: string (nullable = true)\n",
            " |-- NB_UG5: string (nullable = true)\n",
            " |-- FLG_ENT_NAT: string (nullable = true)\n",
            " |-- SOURCE_RELEVE: string (nullable = true)\n",
            " |-- CODE_INT1: string (nullable = true)\n",
            " |-- CODE_INT2: string (nullable = true)\n",
            " |-- SIRET_EMETTEUR: string (nullable = true)\n",
            " |-- FACTURE: string (nullable = true)\n",
            "\n",
            "+--------+--------------------+-----------------+------------------+---------------------+----------------+-----------------------+-------------+-----------+-----------+------------+------------+--------------------+--------------------+--------+-----------------+-----------------+-----------------+---------------------+--------------+-----------+--------------------+----------+----------------+-------------------+--------------------+--------+------------------------+----------+---------------+---------------+-------------+--------------------+-------------------+------+----------+-------------------+------------+-------------------+--------------+------------------+--------+------+-------------+-----------------+---------------+----------------+--------------+----------------+---------+----------------+-------------------+----------+-------------+-----------------+-----------------+------------------+-----+--------------------+------------------+---------------------+---------+---------+---------+---------+--------------------+---+------+-------+---------+---------+--------+-----------+---------------+-------------------+----------+---------------------------+-------------------+---------------+------------------+------------------+--------+-------------------+----------------+-----------------------+------------+----------+-----+------+------+------+------+------+------+------+------+------+-----------+-------------+---------+---------+--------------+-------+\n",
            "|      PB|CONTRAT_RATTACHEMENT|          COMMUNE|CODE_CYCLE_SERVICE|LIBELLE_CYCLE_SERVICE|    CODE_TOURNEE|LIBELLE_TOURNEE_SERVICE|TOURNEE_OPALE|SEQ_TOURNEE|ID_COMPTEUR|NUMERO_BADGE|NUMERO_SERIE|           FABRICANT|              MODELE|DIAMETRE|ANNEE_FABRICATION|SOLUTION_COMPACTE|SOLUTION_DEPORTEE|PASSERELLE_SITE_ISOLE|DATE_RECEPTION|DATE_DEPOSE|MATRICULE_EQUIPEMENT|ACCESSIBLE|CODE_EMPLACEMENT|LIBELLE_EMPLACEMENT|DETAILS_EMPLACEMENTS|  ID_PDS|DATE_MISE_EN_SERVICE_PDS|  ETAT_PDS|ETAT_SOURCE_PDS|LOGEMENT_VACANT|      GEN_DIV| RACCORDE_RACORDABLE|DATE_RACCORDABILITE| USAGE|    FLUIDE|MAT_BRANCH_AV_COMPT|MAT_AP_COMPT|CALIBRE_BRANCHEMENT|MODE_DE_RELEVE|BRANCHEMENT_FICTIF| ID_SITE|FORAGE|NUM_VOIE_SITE|     COMMUNE_SITE|CODE_INSEE_SITE|CODE_POSTAL_SITE|ANC_A_FACTURER|BASSINS_VERSANTS|NOMBRE_UL|ID_COMPTE_CLIENT|ANCIENNE_REF_CLIENT|MENSUALISE|CLASSE_CLIENT|   COMMUNE_CLIENT|CODE_INSEE_CLIENT|CODE_POSTAL_CLIENT|  CMJ|DATE_DERNIERE_RELEVE|       TYPE_RELEVE|INDEX_DERNIERE_RELEVE|CODE_REM1|CODE_REM2|CODE_REM3|CODE_REM4|DT_FIN_CONTRAT_CADRE|CGC|MO_RES|NAT_REJ|IMPS_TRRR|TYPE_SITE|CODE_NAF|LIBELLE_NAF|PDS_STRATEGIQUE|CARNET_METROLOGIQUE| ID_ACTEUR|NATURE_CONTRAT_RATTACHEMENT|NATURE_SERV_EAU_ASS|CODE_PROTECTION|ID_DERNIERE_RELEVE|VOLUME_FORAGE_SITE|EFACTURE|CODE_REF_AGENCE_EAU|L_REF_AGENCE_EAU|L_MOD_CONTACT_PRIVILEGE|CODE_HEXAVIA|ID_PDS_GEN|SIRET|NB_LOG|NB_MIG|NB_PRO|NB_TOU|NB_UG1|NB_UG2|NB_UG3|NB_UG4|NB_UG5|FLG_ENT_NAT|SOURCE_RELEVE|CODE_INT1|CODE_INT2|SIRET_EMETTEUR|FACTURE|\n",
            "+--------+--------------------+-----------------+------------------+---------------------+----------------+-----------------------+-------------+-----------+-----------+------------+------------+--------------------+--------------------+--------+-----------------+-----------------+-----------------+---------------------+--------------+-----------+--------------------+----------+----------------+-------------------+--------------------+--------+------------------------+----------+---------------+---------------+-------------+--------------------+-------------------+------+----------+-------------------+------------+-------------------+--------------+------------------+--------+------+-------------+-----------------+---------------+----------------+--------------+----------------+---------+----------------+-------------------+----------+-------------+-----------------+-----------------+------------------+-----+--------------------+------------------+---------------------+---------+---------+---------+---------+--------------------+---+------+-------+---------+---------+--------+-----------+---------------+-------------------+----------+---------------------------+-------------------+---------------+------------------+------------------+--------+-------------------+----------------+-----------------------+------------+----------+-----+------+------+------+------+------+------+------+------+------+-----------+-------------+---------+---------+--------------+-------+\n",
            "|PB ALBOU| AQUAWASH DT - 42257|BOIGNY SUR BIONNE|  0DYL            | BOIGNY SUR BIONNE...|0DYL            |   BOIGNY SUR BIONNE...|          1.0|       9700| 8361561125|  1581412316| H24VA169824|Sappel - Diehl Me...|ALTAIR V4 composi...|      15|             2024|              Oui|              Oui|                  Oui|          NULL|       NULL|    11A5241011931007|       OUI|            AJ  |Jardin - Accessible|       JARDIN CHIENS| 6447593|                    NULL|En service|         Ouvert|      NON      |Normal       |Raccordable raccordé|               NULL|Normal|Eau Froide|            Inconnu|     Inconnu|               NULL|   Télé-Relevé|              NULL| 5734466|  NULL|           51|BOIGNY SUR BIONNE|          45034|           45760|          NULL|            NULL|     NULL|      9573027089|   0769603401027901|       NON|  Particulier|BOIGNY SUR BIONNE|            45034|             45760|0,101|                NULL|            Normal|                    0|     NULL|     NULL|     NULL|     NULL|          30/09/2031|Non|  NULL|   NULL|     NULL|01 Maison|    NULL|       NULL|           NULL|               AKDQ|2089525014|                        DSP|                EAU|           NULL|         8,366E+11|              NULL|     Non|               NULL|            NULL|      Pas de préférence|      876561|      NULL| NULL|  NULL|  NULL|  NULL|  NULL|  NULL|  NULL|  NULL|  NULL|  NULL|        Non|Relève à pied|     NULL|     NULL|   9,80683E+13|    OUI|\n",
            "|PB ALBOU| AQUAWASH DT - 42257|BOIGNY SUR BIONNE|  0DYL            | BOIGNY SUR BIONNE...|0DYL            |   BOIGNY SUR BIONNE...|          1.0|       6500| 8676907387|  1581250045| A12HA184639|   ABB Kent - Elster|     V100 ou PSMT PC|      15|             2012|              Non|              Non|                  Non|          NULL|       NULL|                NULL|       OUI|            AJ  |Jardin - Accessible|              JARDIN|14351824|                    NULL|En service|         Ouvert|      NON      |Normal       |Raccordable raccordé|               NULL|Normal|Eau Froide|            Inconnu|     Inconnu|               NULL|        A pied|              NULL|13000270|  NULL|           14|BOIGNY SUR BIONNE|          45034|           45760|          NULL|            NULL|     NULL|      9602248704|   0769603401034601|       OUI|  Particulier|BOIGNY SUR BIONNE|            45034|             45760| 0,89|                NULL|Estimation système|                 2848|     NULL|     NULL|     NULL|     NULL|          30/09/2031|Non|  NULL|   NULL|     NULL|01 Maison|    NULL|       NULL|           NULL|        A12HA184639| 838272009|                        DSP|                EAU|           NULL|       8,67911E+11|              NULL|     Non|               NULL|            NULL|      Pas de préférence|      876561|      NULL| NULL|  NULL|  NULL|  NULL|  NULL|  NULL|  NULL|  NULL|  NULL|  NULL|        Non|         NULL|     NULL|     NULL|   9,80683E+13|    OUI|\n",
            "|PB ALBOU| AQUAWASH DT - 42257|BOIGNY SUR BIONNE|  0DYN            | BOIGNY SUR BIONNE...|0DYN            |   BOIGNY SUR BIONNE...|          1.0|       8200| 7193175514|  1581257427| H22VA087512|Sappel - Diehl Me...|ALTAIR V4 composi...|      15|             2022|              Oui|              Oui|                  Oui|          NULL|       NULL|                NULL|       OUI|            AC  |  Cave - Accessible|              MAISON|15775315|                    NULL|En service|         Ouvert|      NON      |Normal       |Raccordable raccordé|               NULL|Normal|Eau Froide|            Inconnu|     Inconnu|               NULL|        A pied|              NULL|13165782|  NULL|           17|BOIGNY SUR BIONNE|          45034|           45760|          NULL|            NULL|     NULL|      3995295727|   0769603401059601|       NON|  Particulier|BOIGNY SUR BIONNE|            45034|             45760|0,365|                NULL|Estimation système|                  314|     NULL|     NULL|     NULL|     NULL|          30/09/2031|Non|  NULL|   NULL|     NULL|01 Maison|    NULL|       NULL|           NULL|        H22VA087512|3766466069|                        DSP|                EAU|           NULL|       7,19683E+11|              NULL|     Non|               NULL|            NULL|      Pas de préférence|      876546|      NULL| NULL|  NULL|  NULL|  NULL|  NULL|  NULL|  NULL|  NULL|  NULL|  NULL|        Non|         NULL|     NULL|     NULL|   9,80683E+13|    OUI|\n",
            "|PB ALBOU| AQUAWASH DT - 42257|BOIGNY SUR BIONNE|  0DYM            | BOIGNY SUR BIONNE...|0DYM            |   BOIGNY SUR BIONNE...|          1.0|      16000| 6808431272|  1581257036| I21LA342638|         Itron - MID|Aquadis+ MID comp...|      15|             2021|              Oui|              Oui|                  Oui|          NULL|       NULL|                NULL|       OUI|            AJ  |Jardin - Accessible|        JARDIN CHIEN|19972677|                    NULL|En service|         Ouvert|      NON      |Normal       |     Non Raccordable|               NULL|Normal|Eau Froide|            Inconnu|     Inconnu|               NULL|        A pied|              NULL|19069844|  NULL|          733|BOIGNY SUR BIONNE|          45034|           45760|          NULL|            NULL|     NULL|      3172258162|   0769603401081901|       NON|  Particulier|BOIGNY SUR BIONNE|            45034|             45760|0,398|                NULL|Estimation système|                  419|     NULL|     NULL|     NULL|     NULL|          30/09/2031|Non|  NULL|   NULL|     NULL|01 Maison|    NULL|       NULL|           NULL|        I21LA342638|7230005821|                        DSP|                EAU|           NULL|       6,80704E+11|              NULL|     Non|               NULL|            NULL|      Pas de préférence|      876577|      NULL| NULL|  NULL|  NULL|  NULL|  NULL|  NULL|  NULL|  NULL|  NULL|  NULL|        Non|         NULL|     NULL|     NULL|   9,80683E+13|    OUI|\n",
            "|PB ALBOU| AQUAWASH DT - 42257|BOIGNY SUR BIONNE|  0DYN            | BOIGNY SUR BIONNE...|0DYN            |   BOIGNY SUR BIONNE...|          1.0|      31200| 5278203184|  1581253384| H23VA431106|Sappel - Diehl Me...|ALTAIR V4 composi...|      15|             2023|              Oui|              Oui|                  Oui|          NULL|       NULL|                NULL|       OUI|            AJ  |Jardin - Accessible|              JARDIN|40591673|                    NULL|En service|         Ouvert|      NON      |Normal       |Raccordable raccordé|               NULL|Normal|Eau Froide|            Inconnu|     Inconnu|               NULL|        A pied|              NULL|42818254|  NULL|           32|BOIGNY SUR BIONNE|          45034|           45760|          NULL|            NULL|     NULL|      3991346832|   0769603401004101|       NON|  Particulier|BOIGNY SUR BIONNE|            45034|             45760|    0|                NULL|Estimation système|                   77|     NULL|     NULL|     NULL|     NULL|          30/09/2031|Non|  NULL|   NULL|     NULL|01 Maison|    NULL|       NULL|           NULL|        H23VA431106|5662208681|                        DSP|                EAU|           NULL|       5,27519E+11|              NULL|     Non|               NULL|            NULL|      Pas de préférence|      876551|      NULL| NULL|  NULL|  NULL|  NULL|  NULL|  NULL|  NULL|  NULL|  NULL|  NULL|        Non|         NULL|     NULL|     NULL|   9,80683E+13|    OUI|\n",
            "+--------+--------------------+-----------------+------------------+---------------------+----------------+-----------------------+-------------+-----------+-----------+------------+------------+--------------------+--------------------+--------+-----------------+-----------------+-----------------+---------------------+--------------+-----------+--------------------+----------+----------------+-------------------+--------------------+--------+------------------------+----------+---------------+---------------+-------------+--------------------+-------------------+------+----------+-------------------+------------+-------------------+--------------+------------------+--------+------+-------------+-----------------+---------------+----------------+--------------+----------------+---------+----------------+-------------------+----------+-------------+-----------------+-----------------+------------------+-----+--------------------+------------------+---------------------+---------+---------+---------+---------+--------------------+---+------+-------+---------+---------+--------+-----------+---------------+-------------------+----------+---------------------------+-------------------+---------------+------------------+------------------+--------+-------------------+----------------+-----------------------+------------+----------+-----+------+------+------+------+------+------+------+------+------+-----------+-------------+---------+---------+--------------+-------+\n",
            "only showing top 5 rows\n",
            "\n"
          ]
        }
      ]
    },
    {
      "cell_type": "code",
      "source": [
        "df.select('COMMUNE').distinct().collect()"
      ],
      "metadata": {
        "id": "BbBzYLRkpou-",
        "colab": {
          "base_uri": "https://localhost:8080/"
        },
        "outputId": "2aa5ddef-5337-4cd2-d39b-2917bb83fa2b"
      },
      "execution_count": null,
      "outputs": [
        {
          "output_type": "execute_result",
          "data": {
            "text/plain": [
              "[Row(COMMUNE='MARDIE'),\n",
              " Row(COMMUNE='BOU'),\n",
              " Row(COMMUNE='MARIGNY LES USAGES'),\n",
              " Row(COMMUNE='OLIVET'),\n",
              " Row(COMMUNE='CHECY'),\n",
              " Row(COMMUNE='CHANTEAU'),\n",
              " Row(COMMUNE='BOIGNY SUR BIONNE'),\n",
              " Row(COMMUNE='ORLEANS'),\n",
              " Row(COMMUNE='COMBLEUX'),\n",
              " Row(COMMUNE='ST JEAN DE LA RUELLE'),\n",
              " Row(COMMUNE='ORMES'),\n",
              " Row(COMMUNE='SAINT JEAN LE BLANC'),\n",
              " Row(COMMUNE='ST JEAN LE BLANC'),\n",
              " Row(COMMUNE='ST PRYVE ST MESMIN'),\n",
              " Row(COMMUNE='ST JEAN DE BRAYE'),\n",
              " Row(COMMUNE='SARAN'),\n",
              " Row(COMMUNE='ST CYR EN VAL')]"
            ]
          },
          "metadata": {},
          "execution_count": 18
        }
      ]
    },
    {
      "cell_type": "code",
      "source": [
        "import pyspark.sql.functions as f\n",
        "def clean_dataset(df):\n",
        "    for c in df.columns:\n",
        "        df = df.withColumn(c, f.trim(df[col]))\n",
        "    return df"
      ],
      "metadata": {
        "id": "hhxAK0YKpoyX"
      },
      "execution_count": null,
      "outputs": []
    },
    {
      "cell_type": "code",
      "source": [
        "df.show(5)"
      ],
      "metadata": {
        "colab": {
          "base_uri": "https://localhost:8080/"
        },
        "id": "0TRqfWyN1fPQ",
        "outputId": "0e7b5b80-bb3c-4ad2-aca2-af297071f1f2"
      },
      "execution_count": null,
      "outputs": [
        {
          "output_type": "stream",
          "name": "stdout",
          "text": [
            "+--------+--------------------+-----------------+------------------+---------------------+----------------+-----------------------+-------------+-----------+-----------+------------+------------+--------------------+--------------------+--------+-----------------+-----------------+-----------------+---------------------+--------------+-----------+--------------------+----------+----------------+-------------------+--------------------+--------+------------------------+----------+---------------+---------------+-------------+--------------------+-------------------+------+----------+-------------------+------------+-------------------+--------------+------------------+--------+------+-------------+-----------------+---------------+----------------+--------------+----------------+---------+----------------+-------------------+----------+-------------+-----------------+-----------------+------------------+-----+--------------------+------------------+---------------------+---------+---------+---------+---------+--------------------+---+------+-------+---------+---------+--------+-----------+---------------+-------------------+----------+---------------------------+-------------------+---------------+------------------+------------------+--------+-------------------+----------------+-----------------------+------------+----------+-----+------+------+------+------+------+------+------+------+------+-----------+-------------+---------+---------+--------------+-------+\n",
            "|      PB|CONTRAT_RATTACHEMENT|          COMMUNE|CODE_CYCLE_SERVICE|LIBELLE_CYCLE_SERVICE|    CODE_TOURNEE|LIBELLE_TOURNEE_SERVICE|TOURNEE_OPALE|SEQ_TOURNEE|ID_COMPTEUR|NUMERO_BADGE|NUMERO_SERIE|           FABRICANT|              MODELE|DIAMETRE|ANNEE_FABRICATION|SOLUTION_COMPACTE|SOLUTION_DEPORTEE|PASSERELLE_SITE_ISOLE|DATE_RECEPTION|DATE_DEPOSE|MATRICULE_EQUIPEMENT|ACCESSIBLE|CODE_EMPLACEMENT|LIBELLE_EMPLACEMENT|DETAILS_EMPLACEMENTS|  ID_PDS|DATE_MISE_EN_SERVICE_PDS|  ETAT_PDS|ETAT_SOURCE_PDS|LOGEMENT_VACANT|      GEN_DIV| RACCORDE_RACORDABLE|DATE_RACCORDABILITE| USAGE|    FLUIDE|MAT_BRANCH_AV_COMPT|MAT_AP_COMPT|CALIBRE_BRANCHEMENT|MODE_DE_RELEVE|BRANCHEMENT_FICTIF| ID_SITE|FORAGE|NUM_VOIE_SITE|     COMMUNE_SITE|CODE_INSEE_SITE|CODE_POSTAL_SITE|ANC_A_FACTURER|BASSINS_VERSANTS|NOMBRE_UL|ID_COMPTE_CLIENT|ANCIENNE_REF_CLIENT|MENSUALISE|CLASSE_CLIENT|   COMMUNE_CLIENT|CODE_INSEE_CLIENT|CODE_POSTAL_CLIENT|  CMJ|DATE_DERNIERE_RELEVE|       TYPE_RELEVE|INDEX_DERNIERE_RELEVE|CODE_REM1|CODE_REM2|CODE_REM3|CODE_REM4|DT_FIN_CONTRAT_CADRE|CGC|MO_RES|NAT_REJ|IMPS_TRRR|TYPE_SITE|CODE_NAF|LIBELLE_NAF|PDS_STRATEGIQUE|CARNET_METROLOGIQUE| ID_ACTEUR|NATURE_CONTRAT_RATTACHEMENT|NATURE_SERV_EAU_ASS|CODE_PROTECTION|ID_DERNIERE_RELEVE|VOLUME_FORAGE_SITE|EFACTURE|CODE_REF_AGENCE_EAU|L_REF_AGENCE_EAU|L_MOD_CONTACT_PRIVILEGE|CODE_HEXAVIA|ID_PDS_GEN|SIRET|NB_LOG|NB_MIG|NB_PRO|NB_TOU|NB_UG1|NB_UG2|NB_UG3|NB_UG4|NB_UG5|FLG_ENT_NAT|SOURCE_RELEVE|CODE_INT1|CODE_INT2|SIRET_EMETTEUR|FACTURE|\n",
            "+--------+--------------------+-----------------+------------------+---------------------+----------------+-----------------------+-------------+-----------+-----------+------------+------------+--------------------+--------------------+--------+-----------------+-----------------+-----------------+---------------------+--------------+-----------+--------------------+----------+----------------+-------------------+--------------------+--------+------------------------+----------+---------------+---------------+-------------+--------------------+-------------------+------+----------+-------------------+------------+-------------------+--------------+------------------+--------+------+-------------+-----------------+---------------+----------------+--------------+----------------+---------+----------------+-------------------+----------+-------------+-----------------+-----------------+------------------+-----+--------------------+------------------+---------------------+---------+---------+---------+---------+--------------------+---+------+-------+---------+---------+--------+-----------+---------------+-------------------+----------+---------------------------+-------------------+---------------+------------------+------------------+--------+-------------------+----------------+-----------------------+------------+----------+-----+------+------+------+------+------+------+------+------+------+-----------+-------------+---------+---------+--------------+-------+\n",
            "|PB ALBOU| AQUAWASH DT - 42257|BOIGNY SUR BIONNE|  0DYL            | BOIGNY SUR BIONNE...|0DYL            |   BOIGNY SUR BIONNE...|          1.0|       9700| 8361561125|  1581412316| H24VA169824|Sappel - Diehl Me...|ALTAIR V4 composi...|      15|             2024|              Oui|              Oui|                  Oui|          NULL|       NULL|    11A5241011931007|       OUI|            AJ  |Jardin - Accessible|       JARDIN CHIENS| 6447593|                    NULL|En service|         Ouvert|      NON      |Normal       |Raccordable raccordé|               NULL|Normal|Eau Froide|            Inconnu|     Inconnu|               NULL|   Télé-Relevé|              NULL| 5734466|  NULL|           51|BOIGNY SUR BIONNE|          45034|           45760|          NULL|            NULL|     NULL|      9573027089|   0769603401027901|       NON|  Particulier|BOIGNY SUR BIONNE|            45034|             45760|0,101|                NULL|            Normal|                    0|     NULL|     NULL|     NULL|     NULL|          30/09/2031|Non|  NULL|   NULL|     NULL|01 Maison|    NULL|       NULL|           NULL|               AKDQ|2089525014|                        DSP|                EAU|           NULL|         8,366E+11|              NULL|     Non|               NULL|            NULL|      Pas de préférence|      876561|      NULL| NULL|  NULL|  NULL|  NULL|  NULL|  NULL|  NULL|  NULL|  NULL|  NULL|        Non|Relève à pied|     NULL|     NULL|   9,80683E+13|    OUI|\n",
            "|PB ALBOU| AQUAWASH DT - 42257|BOIGNY SUR BIONNE|  0DYL            | BOIGNY SUR BIONNE...|0DYL            |   BOIGNY SUR BIONNE...|          1.0|       6500| 8676907387|  1581250045| A12HA184639|   ABB Kent - Elster|     V100 ou PSMT PC|      15|             2012|              Non|              Non|                  Non|          NULL|       NULL|                NULL|       OUI|            AJ  |Jardin - Accessible|              JARDIN|14351824|                    NULL|En service|         Ouvert|      NON      |Normal       |Raccordable raccordé|               NULL|Normal|Eau Froide|            Inconnu|     Inconnu|               NULL|        A pied|              NULL|13000270|  NULL|           14|BOIGNY SUR BIONNE|          45034|           45760|          NULL|            NULL|     NULL|      9602248704|   0769603401034601|       OUI|  Particulier|BOIGNY SUR BIONNE|            45034|             45760| 0,89|                NULL|Estimation système|                 2848|     NULL|     NULL|     NULL|     NULL|          30/09/2031|Non|  NULL|   NULL|     NULL|01 Maison|    NULL|       NULL|           NULL|        A12HA184639| 838272009|                        DSP|                EAU|           NULL|       8,67911E+11|              NULL|     Non|               NULL|            NULL|      Pas de préférence|      876561|      NULL| NULL|  NULL|  NULL|  NULL|  NULL|  NULL|  NULL|  NULL|  NULL|  NULL|        Non|         NULL|     NULL|     NULL|   9,80683E+13|    OUI|\n",
            "|PB ALBOU| AQUAWASH DT - 42257|BOIGNY SUR BIONNE|  0DYN            | BOIGNY SUR BIONNE...|0DYN            |   BOIGNY SUR BIONNE...|          1.0|       8200| 7193175514|  1581257427| H22VA087512|Sappel - Diehl Me...|ALTAIR V4 composi...|      15|             2022|              Oui|              Oui|                  Oui|          NULL|       NULL|                NULL|       OUI|            AC  |  Cave - Accessible|              MAISON|15775315|                    NULL|En service|         Ouvert|      NON      |Normal       |Raccordable raccordé|               NULL|Normal|Eau Froide|            Inconnu|     Inconnu|               NULL|        A pied|              NULL|13165782|  NULL|           17|BOIGNY SUR BIONNE|          45034|           45760|          NULL|            NULL|     NULL|      3995295727|   0769603401059601|       NON|  Particulier|BOIGNY SUR BIONNE|            45034|             45760|0,365|                NULL|Estimation système|                  314|     NULL|     NULL|     NULL|     NULL|          30/09/2031|Non|  NULL|   NULL|     NULL|01 Maison|    NULL|       NULL|           NULL|        H22VA087512|3766466069|                        DSP|                EAU|           NULL|       7,19683E+11|              NULL|     Non|               NULL|            NULL|      Pas de préférence|      876546|      NULL| NULL|  NULL|  NULL|  NULL|  NULL|  NULL|  NULL|  NULL|  NULL|  NULL|        Non|         NULL|     NULL|     NULL|   9,80683E+13|    OUI|\n",
            "|PB ALBOU| AQUAWASH DT - 42257|BOIGNY SUR BIONNE|  0DYM            | BOIGNY SUR BIONNE...|0DYM            |   BOIGNY SUR BIONNE...|          1.0|      16000| 6808431272|  1581257036| I21LA342638|         Itron - MID|Aquadis+ MID comp...|      15|             2021|              Oui|              Oui|                  Oui|          NULL|       NULL|                NULL|       OUI|            AJ  |Jardin - Accessible|        JARDIN CHIEN|19972677|                    NULL|En service|         Ouvert|      NON      |Normal       |     Non Raccordable|               NULL|Normal|Eau Froide|            Inconnu|     Inconnu|               NULL|        A pied|              NULL|19069844|  NULL|          733|BOIGNY SUR BIONNE|          45034|           45760|          NULL|            NULL|     NULL|      3172258162|   0769603401081901|       NON|  Particulier|BOIGNY SUR BIONNE|            45034|             45760|0,398|                NULL|Estimation système|                  419|     NULL|     NULL|     NULL|     NULL|          30/09/2031|Non|  NULL|   NULL|     NULL|01 Maison|    NULL|       NULL|           NULL|        I21LA342638|7230005821|                        DSP|                EAU|           NULL|       6,80704E+11|              NULL|     Non|               NULL|            NULL|      Pas de préférence|      876577|      NULL| NULL|  NULL|  NULL|  NULL|  NULL|  NULL|  NULL|  NULL|  NULL|  NULL|        Non|         NULL|     NULL|     NULL|   9,80683E+13|    OUI|\n",
            "|PB ALBOU| AQUAWASH DT - 42257|BOIGNY SUR BIONNE|  0DYN            | BOIGNY SUR BIONNE...|0DYN            |   BOIGNY SUR BIONNE...|          1.0|      31200| 5278203184|  1581253384| H23VA431106|Sappel - Diehl Me...|ALTAIR V4 composi...|      15|             2023|              Oui|              Oui|                  Oui|          NULL|       NULL|                NULL|       OUI|            AJ  |Jardin - Accessible|              JARDIN|40591673|                    NULL|En service|         Ouvert|      NON      |Normal       |Raccordable raccordé|               NULL|Normal|Eau Froide|            Inconnu|     Inconnu|               NULL|        A pied|              NULL|42818254|  NULL|           32|BOIGNY SUR BIONNE|          45034|           45760|          NULL|            NULL|     NULL|      3991346832|   0769603401004101|       NON|  Particulier|BOIGNY SUR BIONNE|            45034|             45760|    0|                NULL|Estimation système|                   77|     NULL|     NULL|     NULL|     NULL|          30/09/2031|Non|  NULL|   NULL|     NULL|01 Maison|    NULL|       NULL|           NULL|        H23VA431106|5662208681|                        DSP|                EAU|           NULL|       5,27519E+11|              NULL|     Non|               NULL|            NULL|      Pas de préférence|      876551|      NULL| NULL|  NULL|  NULL|  NULL|  NULL|  NULL|  NULL|  NULL|  NULL|  NULL|        Non|         NULL|     NULL|     NULL|   9,80683E+13|    OUI|\n",
            "+--------+--------------------+-----------------+------------------+---------------------+----------------+-----------------------+-------------+-----------+-----------+------------+------------+--------------------+--------------------+--------+-----------------+-----------------+-----------------+---------------------+--------------+-----------+--------------------+----------+----------------+-------------------+--------------------+--------+------------------------+----------+---------------+---------------+-------------+--------------------+-------------------+------+----------+-------------------+------------+-------------------+--------------+------------------+--------+------+-------------+-----------------+---------------+----------------+--------------+----------------+---------+----------------+-------------------+----------+-------------+-----------------+-----------------+------------------+-----+--------------------+------------------+---------------------+---------+---------+---------+---------+--------------------+---+------+-------+---------+---------+--------+-----------+---------------+-------------------+----------+---------------------------+-------------------+---------------+------------------+------------------+--------+-------------------+----------------+-----------------------+------------+----------+-----+------+------+------+------+------+------+------+------+------+-----------+-------------+---------+---------+--------------+-------+\n",
            "only showing top 5 rows\n",
            "\n"
          ]
        }
      ]
    },
    {
      "cell_type": "code",
      "source": [
        "df.columns"
      ],
      "metadata": {
        "colab": {
          "base_uri": "https://localhost:8080/"
        },
        "id": "haujF1MM0_f5",
        "outputId": "5c46309e-7d6d-412f-e7fe-4497ccf53da8"
      },
      "execution_count": null,
      "outputs": [
        {
          "output_type": "execute_result",
          "data": {
            "text/plain": [
              "['PB',\n",
              " 'CONTRAT_RATTACHEMENT',\n",
              " 'COMMUNE',\n",
              " 'CODE_CYCLE_SERVICE',\n",
              " 'LIBELLE_CYCLE_SERVICE',\n",
              " 'CODE_TOURNEE',\n",
              " 'LIBELLE_TOURNEE_SERVICE',\n",
              " 'TOURNEE_OPALE',\n",
              " 'SEQ_TOURNEE',\n",
              " 'ID_COMPTEUR',\n",
              " 'NUMERO_BADGE',\n",
              " 'NUMERO_SERIE',\n",
              " 'FABRICANT',\n",
              " 'MODELE',\n",
              " 'DIAMETRE',\n",
              " 'ANNEE_FABRICATION',\n",
              " 'SOLUTION_COMPACTE',\n",
              " 'SOLUTION_DEPORTEE',\n",
              " 'PASSERELLE_SITE_ISOLE',\n",
              " 'DATE_RECEPTION',\n",
              " 'DATE_DEPOSE',\n",
              " 'MATRICULE_EQUIPEMENT',\n",
              " 'ACCESSIBLE',\n",
              " 'CODE_EMPLACEMENT',\n",
              " 'LIBELLE_EMPLACEMENT',\n",
              " 'DETAILS_EMPLACEMENTS',\n",
              " 'ID_PDS',\n",
              " 'DATE_MISE_EN_SERVICE_PDS',\n",
              " 'ETAT_PDS',\n",
              " 'ETAT_SOURCE_PDS',\n",
              " 'LOGEMENT_VACANT',\n",
              " 'GEN_DIV',\n",
              " 'RACCORDE_RACORDABLE',\n",
              " 'DATE_RACCORDABILITE',\n",
              " 'USAGE',\n",
              " 'FLUIDE',\n",
              " 'MAT_BRANCH_AV_COMPT',\n",
              " 'MAT_AP_COMPT',\n",
              " 'CALIBRE_BRANCHEMENT',\n",
              " 'MODE_DE_RELEVE',\n",
              " 'BRANCHEMENT_FICTIF',\n",
              " 'ID_SITE',\n",
              " 'FORAGE',\n",
              " 'NUM_VOIE_SITE',\n",
              " 'COMMUNE_SITE',\n",
              " 'CODE_INSEE_SITE',\n",
              " 'CODE_POSTAL_SITE',\n",
              " 'ANC_A_FACTURER',\n",
              " 'BASSINS_VERSANTS',\n",
              " 'NOMBRE_UL',\n",
              " 'ID_COMPTE_CLIENT',\n",
              " 'ANCIENNE_REF_CLIENT',\n",
              " 'MENSUALISE',\n",
              " 'CLASSE_CLIENT',\n",
              " 'COMMUNE_CLIENT',\n",
              " 'CODE_INSEE_CLIENT',\n",
              " 'CODE_POSTAL_CLIENT',\n",
              " 'CMJ',\n",
              " 'DATE_DERNIERE_RELEVE',\n",
              " 'TYPE_RELEVE',\n",
              " 'INDEX_DERNIERE_RELEVE',\n",
              " 'CODE_REM1',\n",
              " 'CODE_REM2',\n",
              " 'CODE_REM3',\n",
              " 'CODE_REM4',\n",
              " 'DT_FIN_CONTRAT_CADRE',\n",
              " 'CGC',\n",
              " 'MO_RES',\n",
              " 'NAT_REJ',\n",
              " 'IMPS_TRRR',\n",
              " 'TYPE_SITE',\n",
              " 'CODE_NAF',\n",
              " 'LIBELLE_NAF',\n",
              " 'PDS_STRATEGIQUE',\n",
              " 'CARNET_METROLOGIQUE',\n",
              " 'ID_ACTEUR',\n",
              " 'NATURE_CONTRAT_RATTACHEMENT',\n",
              " 'NATURE_SERV_EAU_ASS',\n",
              " 'CODE_PROTECTION',\n",
              " 'ID_DERNIERE_RELEVE',\n",
              " 'VOLUME_FORAGE_SITE',\n",
              " 'EFACTURE',\n",
              " 'CODE_REF_AGENCE_EAU',\n",
              " 'L_REF_AGENCE_EAU',\n",
              " 'L_MOD_CONTACT_PRIVILEGE',\n",
              " 'CODE_HEXAVIA',\n",
              " 'ID_PDS_GEN',\n",
              " 'SIRET',\n",
              " 'NB_LOG',\n",
              " 'NB_MIG',\n",
              " 'NB_PRO',\n",
              " 'NB_TOU',\n",
              " 'NB_UG1',\n",
              " 'NB_UG2',\n",
              " 'NB_UG3',\n",
              " 'NB_UG4',\n",
              " 'NB_UG5',\n",
              " 'FLG_ENT_NAT',\n",
              " 'SOURCE_RELEVE',\n",
              " 'CODE_INT1',\n",
              " 'CODE_INT2',\n",
              " 'SIRET_EMETTEUR',\n",
              " 'FACTURE']"
            ]
          },
          "metadata": {},
          "execution_count": 23
        }
      ]
    },
    {
      "cell_type": "code",
      "source": [
        "# Trouver les colonnes contenant \"date\" dans leur nom\n",
        "date_columns = [col for col in df.columns if \"date\" in col.lower()]\n",
        "date_columns"
      ],
      "metadata": {
        "colab": {
          "base_uri": "https://localhost:8080/"
        },
        "id": "X9m_Ivk20_o2",
        "outputId": "9f49a1d7-5196-43b2-d029-e27463f045e3"
      },
      "execution_count": null,
      "outputs": [
        {
          "output_type": "execute_result",
          "data": {
            "text/plain": [
              "['DATE_RECEPTION',\n",
              " 'DATE_DEPOSE',\n",
              " 'DATE_MISE_EN_SERVICE_PDS',\n",
              " 'DATE_RACCORDABILITE',\n",
              " 'DATE_DERNIERE_RELEVE']"
            ]
          },
          "metadata": {},
          "execution_count": 24
        }
      ]
    },
    {
      "cell_type": "code",
      "source": [
        "\n",
        "# Trouver les colonnes contenant \"date\" dans leur nom\n",
        "date_columns = [col for col in df.columns if \"date\" in col.lower()]\n",
        "\n",
        "# Convertir chaque colonne de type date en datetime\n",
        "for col_name in date_columns:\n",
        "    df = df.withColumn(col_name, to_timestamp(df[col_name], \"yyyy-MM-dd HH:mm:ss\"))  # Ajustez le format si nécessaire\n",
        "\n",
        "\n"
      ],
      "metadata": {
        "id": "U5iYQrgU0_rq"
      },
      "execution_count": null,
      "outputs": []
    },
    {
      "cell_type": "code",
      "source": [
        "# Vérifier les résultats\n",
        "df.printSchema()\n"
      ],
      "metadata": {
        "colab": {
          "base_uri": "https://localhost:8080/"
        },
        "id": "ouFftQjN0_uR",
        "outputId": "98aa72e5-bcf2-4ee3-8c35-915a862593da"
      },
      "execution_count": null,
      "outputs": [
        {
          "output_type": "stream",
          "name": "stdout",
          "text": [
            "root\n",
            " |-- PB: string (nullable = true)\n",
            " |-- CONTRAT_RATTACHEMENT: string (nullable = true)\n",
            " |-- COMMUNE: string (nullable = true)\n",
            " |-- CODE_CYCLE_SERVICE: string (nullable = true)\n",
            " |-- LIBELLE_CYCLE_SERVICE: string (nullable = true)\n",
            " |-- CODE_TOURNEE: string (nullable = true)\n",
            " |-- LIBELLE_TOURNEE_SERVICE: string (nullable = true)\n",
            " |-- TOURNEE_OPALE: string (nullable = true)\n",
            " |-- SEQ_TOURNEE: string (nullable = true)\n",
            " |-- ID_COMPTEUR: string (nullable = true)\n",
            " |-- NUMERO_BADGE: string (nullable = true)\n",
            " |-- NUMERO_SERIE: string (nullable = true)\n",
            " |-- FABRICANT: string (nullable = true)\n",
            " |-- MODELE: string (nullable = true)\n",
            " |-- DIAMETRE: string (nullable = true)\n",
            " |-- ANNEE_FABRICATION: string (nullable = true)\n",
            " |-- SOLUTION_COMPACTE: string (nullable = true)\n",
            " |-- SOLUTION_DEPORTEE: string (nullable = true)\n",
            " |-- PASSERELLE_SITE_ISOLE: string (nullable = true)\n",
            " |-- DATE_RECEPTION: timestamp (nullable = true)\n",
            " |-- DATE_DEPOSE: timestamp (nullable = true)\n",
            " |-- MATRICULE_EQUIPEMENT: string (nullable = true)\n",
            " |-- ACCESSIBLE: string (nullable = true)\n",
            " |-- CODE_EMPLACEMENT: string (nullable = true)\n",
            " |-- LIBELLE_EMPLACEMENT: string (nullable = true)\n",
            " |-- DETAILS_EMPLACEMENTS: string (nullable = true)\n",
            " |-- ID_PDS: string (nullable = true)\n",
            " |-- DATE_MISE_EN_SERVICE_PDS: timestamp (nullable = true)\n",
            " |-- ETAT_PDS: string (nullable = true)\n",
            " |-- ETAT_SOURCE_PDS: string (nullable = true)\n",
            " |-- LOGEMENT_VACANT: string (nullable = true)\n",
            " |-- GEN_DIV: string (nullable = true)\n",
            " |-- RACCORDE_RACORDABLE: string (nullable = true)\n",
            " |-- DATE_RACCORDABILITE: timestamp (nullable = true)\n",
            " |-- USAGE: string (nullable = true)\n",
            " |-- FLUIDE: string (nullable = true)\n",
            " |-- MAT_BRANCH_AV_COMPT: string (nullable = true)\n",
            " |-- MAT_AP_COMPT: string (nullable = true)\n",
            " |-- CALIBRE_BRANCHEMENT: string (nullable = true)\n",
            " |-- MODE_DE_RELEVE: string (nullable = true)\n",
            " |-- BRANCHEMENT_FICTIF: string (nullable = true)\n",
            " |-- ID_SITE: string (nullable = true)\n",
            " |-- FORAGE: string (nullable = true)\n",
            " |-- NUM_VOIE_SITE: string (nullable = true)\n",
            " |-- COMMUNE_SITE: string (nullable = true)\n",
            " |-- CODE_INSEE_SITE: string (nullable = true)\n",
            " |-- CODE_POSTAL_SITE: string (nullable = true)\n",
            " |-- ANC_A_FACTURER: string (nullable = true)\n",
            " |-- BASSINS_VERSANTS: string (nullable = true)\n",
            " |-- NOMBRE_UL: string (nullable = true)\n",
            " |-- ID_COMPTE_CLIENT: string (nullable = true)\n",
            " |-- ANCIENNE_REF_CLIENT: string (nullable = true)\n",
            " |-- MENSUALISE: string (nullable = true)\n",
            " |-- CLASSE_CLIENT: string (nullable = true)\n",
            " |-- COMMUNE_CLIENT: string (nullable = true)\n",
            " |-- CODE_INSEE_CLIENT: string (nullable = true)\n",
            " |-- CODE_POSTAL_CLIENT: string (nullable = true)\n",
            " |-- CMJ: string (nullable = true)\n",
            " |-- DATE_DERNIERE_RELEVE: timestamp (nullable = true)\n",
            " |-- TYPE_RELEVE: string (nullable = true)\n",
            " |-- INDEX_DERNIERE_RELEVE: string (nullable = true)\n",
            " |-- CODE_REM1: string (nullable = true)\n",
            " |-- CODE_REM2: string (nullable = true)\n",
            " |-- CODE_REM3: string (nullable = true)\n",
            " |-- CODE_REM4: string (nullable = true)\n",
            " |-- DT_FIN_CONTRAT_CADRE: string (nullable = true)\n",
            " |-- CGC: string (nullable = true)\n",
            " |-- MO_RES: string (nullable = true)\n",
            " |-- NAT_REJ: string (nullable = true)\n",
            " |-- IMPS_TRRR: string (nullable = true)\n",
            " |-- TYPE_SITE: string (nullable = true)\n",
            " |-- CODE_NAF: string (nullable = true)\n",
            " |-- LIBELLE_NAF: string (nullable = true)\n",
            " |-- PDS_STRATEGIQUE: string (nullable = true)\n",
            " |-- CARNET_METROLOGIQUE: string (nullable = true)\n",
            " |-- ID_ACTEUR: string (nullable = true)\n",
            " |-- NATURE_CONTRAT_RATTACHEMENT: string (nullable = true)\n",
            " |-- NATURE_SERV_EAU_ASS: string (nullable = true)\n",
            " |-- CODE_PROTECTION: string (nullable = true)\n",
            " |-- ID_DERNIERE_RELEVE: string (nullable = true)\n",
            " |-- VOLUME_FORAGE_SITE: string (nullable = true)\n",
            " |-- EFACTURE: string (nullable = true)\n",
            " |-- CODE_REF_AGENCE_EAU: string (nullable = true)\n",
            " |-- L_REF_AGENCE_EAU: string (nullable = true)\n",
            " |-- L_MOD_CONTACT_PRIVILEGE: string (nullable = true)\n",
            " |-- CODE_HEXAVIA: string (nullable = true)\n",
            " |-- ID_PDS_GEN: string (nullable = true)\n",
            " |-- SIRET: string (nullable = true)\n",
            " |-- NB_LOG: string (nullable = true)\n",
            " |-- NB_MIG: string (nullable = true)\n",
            " |-- NB_PRO: string (nullable = true)\n",
            " |-- NB_TOU: string (nullable = true)\n",
            " |-- NB_UG1: string (nullable = true)\n",
            " |-- NB_UG2: string (nullable = true)\n",
            " |-- NB_UG3: string (nullable = true)\n",
            " |-- NB_UG4: string (nullable = true)\n",
            " |-- NB_UG5: string (nullable = true)\n",
            " |-- FLG_ENT_NAT: string (nullable = true)\n",
            " |-- SOURCE_RELEVE: string (nullable = true)\n",
            " |-- CODE_INT1: string (nullable = true)\n",
            " |-- CODE_INT2: string (nullable = true)\n",
            " |-- SIRET_EMETTEUR: string (nullable = true)\n",
            " |-- FACTURE: string (nullable = true)\n",
            "\n"
          ]
        }
      ]
    },
    {
      "cell_type": "code",
      "source": [
        "df.show(5)\n"
      ],
      "metadata": {
        "colab": {
          "base_uri": "https://localhost:8080/"
        },
        "id": "9dnGoATI0_xl",
        "outputId": "fc1cd4f2-e8c3-44a2-9fbb-41e03f4384e4"
      },
      "execution_count": null,
      "outputs": [
        {
          "output_type": "stream",
          "name": "stdout",
          "text": [
            "+--------+--------------------+-----------------+------------------+---------------------+------------+-----------------------+-------------+-----------+-----------+------------+------------+--------------------+--------------------+--------+-----------------+-----------------+-----------------+---------------------+--------------+-----------+--------------------+----------+----------------+-------------------+--------------------+--------+------------------------+----------+---------------+---------------+-------+--------------------+-------------------+------+----------+-------------------+------------+-------------------+--------------+------------------+--------+------+-------------+-----------------+---------------+----------------+--------------+----------------+---------+----------------+-------------------+----------+-------------+-----------------+-----------------+------------------+-----+--------------------+------------------+---------------------+---------+---------+---------+---------+--------------------+---+------+-------+---------+---------+--------+-----------+---------------+-------------------+----------+---------------------------+-------------------+---------------+------------------+------------------+--------+-------------------+----------------+-----------------------+------------+----------+-----+------+------+------+------+------+------+------+------+------+-----------+-------------+---------+---------+--------------+-------+\n",
            "|      PB|CONTRAT_RATTACHEMENT|          COMMUNE|CODE_CYCLE_SERVICE|LIBELLE_CYCLE_SERVICE|CODE_TOURNEE|LIBELLE_TOURNEE_SERVICE|TOURNEE_OPALE|SEQ_TOURNEE|ID_COMPTEUR|NUMERO_BADGE|NUMERO_SERIE|           FABRICANT|              MODELE|DIAMETRE|ANNEE_FABRICATION|SOLUTION_COMPACTE|SOLUTION_DEPORTEE|PASSERELLE_SITE_ISOLE|DATE_RECEPTION|DATE_DEPOSE|MATRICULE_EQUIPEMENT|ACCESSIBLE|CODE_EMPLACEMENT|LIBELLE_EMPLACEMENT|DETAILS_EMPLACEMENTS|  ID_PDS|DATE_MISE_EN_SERVICE_PDS|  ETAT_PDS|ETAT_SOURCE_PDS|LOGEMENT_VACANT|GEN_DIV| RACCORDE_RACORDABLE|DATE_RACCORDABILITE| USAGE|    FLUIDE|MAT_BRANCH_AV_COMPT|MAT_AP_COMPT|CALIBRE_BRANCHEMENT|MODE_DE_RELEVE|BRANCHEMENT_FICTIF| ID_SITE|FORAGE|NUM_VOIE_SITE|     COMMUNE_SITE|CODE_INSEE_SITE|CODE_POSTAL_SITE|ANC_A_FACTURER|BASSINS_VERSANTS|NOMBRE_UL|ID_COMPTE_CLIENT|ANCIENNE_REF_CLIENT|MENSUALISE|CLASSE_CLIENT|   COMMUNE_CLIENT|CODE_INSEE_CLIENT|CODE_POSTAL_CLIENT|  CMJ|DATE_DERNIERE_RELEVE|       TYPE_RELEVE|INDEX_DERNIERE_RELEVE|CODE_REM1|CODE_REM2|CODE_REM3|CODE_REM4|DT_FIN_CONTRAT_CADRE|CGC|MO_RES|NAT_REJ|IMPS_TRRR|TYPE_SITE|CODE_NAF|LIBELLE_NAF|PDS_STRATEGIQUE|CARNET_METROLOGIQUE| ID_ACTEUR|NATURE_CONTRAT_RATTACHEMENT|NATURE_SERV_EAU_ASS|CODE_PROTECTION|ID_DERNIERE_RELEVE|VOLUME_FORAGE_SITE|EFACTURE|CODE_REF_AGENCE_EAU|L_REF_AGENCE_EAU|L_MOD_CONTACT_PRIVILEGE|CODE_HEXAVIA|ID_PDS_GEN|SIRET|NB_LOG|NB_MIG|NB_PRO|NB_TOU|NB_UG1|NB_UG2|NB_UG3|NB_UG4|NB_UG5|FLG_ENT_NAT|SOURCE_RELEVE|CODE_INT1|CODE_INT2|SIRET_EMETTEUR|FACTURE|\n",
            "+--------+--------------------+-----------------+------------------+---------------------+------------+-----------------------+-------------+-----------+-----------+------------+------------+--------------------+--------------------+--------+-----------------+-----------------+-----------------+---------------------+--------------+-----------+--------------------+----------+----------------+-------------------+--------------------+--------+------------------------+----------+---------------+---------------+-------+--------------------+-------------------+------+----------+-------------------+------------+-------------------+--------------+------------------+--------+------+-------------+-----------------+---------------+----------------+--------------+----------------+---------+----------------+-------------------+----------+-------------+-----------------+-----------------+------------------+-----+--------------------+------------------+---------------------+---------+---------+---------+---------+--------------------+---+------+-------+---------+---------+--------+-----------+---------------+-------------------+----------+---------------------------+-------------------+---------------+------------------+------------------+--------+-------------------+----------------+-----------------------+------------+----------+-----+------+------+------+------+------+------+------+------+------+-----------+-------------+---------+---------+--------------+-------+\n",
            "|PB ALBOU| AQUAWASH DT - 42257|BOIGNY SUR BIONNE|              0DYL| BOIGNY SUR BIONNE...|        0DYL|   BOIGNY SUR BIONNE...|          1.0|       9700| 8361561125|  1581412316| H24VA169824|Sappel - Diehl Me...|ALTAIR V4 composi...|      15|             2024|              Oui|              Oui|                  Oui|          NULL|       NULL|    11A5241011931007|       OUI|              AJ|Jardin - Accessible|       JARDIN CHIENS| 6447593|                    NULL|En service|         Ouvert|            NON| Normal|Raccordable raccordé|               NULL|Normal|Eau Froide|            Inconnu|     Inconnu|               NULL|   Télé-Relevé|              NULL| 5734466|  NULL|           51|BOIGNY SUR BIONNE|          45034|           45760|          NULL|            NULL|     NULL|      9573027089|   0769603401027901|       NON|  Particulier|BOIGNY SUR BIONNE|            45034|             45760|0,101|                NULL|            Normal|                    0|     NULL|     NULL|     NULL|     NULL|          30/09/2031|Non|  NULL|   NULL|     NULL|01 Maison|    NULL|       NULL|           NULL|               AKDQ|2089525014|                        DSP|                EAU|           NULL|         8,366E+11|              NULL|     Non|               NULL|            NULL|      Pas de préférence|      876561|      NULL| NULL|  NULL|  NULL|  NULL|  NULL|  NULL|  NULL|  NULL|  NULL|  NULL|        Non|Relève à pied|     NULL|     NULL|   9,80683E+13|    OUI|\n",
            "|PB ALBOU| AQUAWASH DT - 42257|BOIGNY SUR BIONNE|              0DYL| BOIGNY SUR BIONNE...|        0DYL|   BOIGNY SUR BIONNE...|          1.0|       6500| 8676907387|  1581250045| A12HA184639|   ABB Kent - Elster|     V100 ou PSMT PC|      15|             2012|              Non|              Non|                  Non|          NULL|       NULL|                NULL|       OUI|              AJ|Jardin - Accessible|              JARDIN|14351824|                    NULL|En service|         Ouvert|            NON| Normal|Raccordable raccordé|               NULL|Normal|Eau Froide|            Inconnu|     Inconnu|               NULL|        A pied|              NULL|13000270|  NULL|           14|BOIGNY SUR BIONNE|          45034|           45760|          NULL|            NULL|     NULL|      9602248704|   0769603401034601|       OUI|  Particulier|BOIGNY SUR BIONNE|            45034|             45760| 0,89|                NULL|Estimation système|                 2848|     NULL|     NULL|     NULL|     NULL|          30/09/2031|Non|  NULL|   NULL|     NULL|01 Maison|    NULL|       NULL|           NULL|        A12HA184639| 838272009|                        DSP|                EAU|           NULL|       8,67911E+11|              NULL|     Non|               NULL|            NULL|      Pas de préférence|      876561|      NULL| NULL|  NULL|  NULL|  NULL|  NULL|  NULL|  NULL|  NULL|  NULL|  NULL|        Non|         NULL|     NULL|     NULL|   9,80683E+13|    OUI|\n",
            "|PB ALBOU| AQUAWASH DT - 42257|BOIGNY SUR BIONNE|              0DYN| BOIGNY SUR BIONNE...|        0DYN|   BOIGNY SUR BIONNE...|          1.0|       8200| 7193175514|  1581257427| H22VA087512|Sappel - Diehl Me...|ALTAIR V4 composi...|      15|             2022|              Oui|              Oui|                  Oui|          NULL|       NULL|                NULL|       OUI|              AC|  Cave - Accessible|              MAISON|15775315|                    NULL|En service|         Ouvert|            NON| Normal|Raccordable raccordé|               NULL|Normal|Eau Froide|            Inconnu|     Inconnu|               NULL|        A pied|              NULL|13165782|  NULL|           17|BOIGNY SUR BIONNE|          45034|           45760|          NULL|            NULL|     NULL|      3995295727|   0769603401059601|       NON|  Particulier|BOIGNY SUR BIONNE|            45034|             45760|0,365|                NULL|Estimation système|                  314|     NULL|     NULL|     NULL|     NULL|          30/09/2031|Non|  NULL|   NULL|     NULL|01 Maison|    NULL|       NULL|           NULL|        H22VA087512|3766466069|                        DSP|                EAU|           NULL|       7,19683E+11|              NULL|     Non|               NULL|            NULL|      Pas de préférence|      876546|      NULL| NULL|  NULL|  NULL|  NULL|  NULL|  NULL|  NULL|  NULL|  NULL|  NULL|        Non|         NULL|     NULL|     NULL|   9,80683E+13|    OUI|\n",
            "|PB ALBOU| AQUAWASH DT - 42257|BOIGNY SUR BIONNE|              0DYM| BOIGNY SUR BIONNE...|        0DYM|   BOIGNY SUR BIONNE...|          1.0|      16000| 6808431272|  1581257036| I21LA342638|         Itron - MID|Aquadis+ MID comp...|      15|             2021|              Oui|              Oui|                  Oui|          NULL|       NULL|                NULL|       OUI|              AJ|Jardin - Accessible|        JARDIN CHIEN|19972677|                    NULL|En service|         Ouvert|            NON| Normal|     Non Raccordable|               NULL|Normal|Eau Froide|            Inconnu|     Inconnu|               NULL|        A pied|              NULL|19069844|  NULL|          733|BOIGNY SUR BIONNE|          45034|           45760|          NULL|            NULL|     NULL|      3172258162|   0769603401081901|       NON|  Particulier|BOIGNY SUR BIONNE|            45034|             45760|0,398|                NULL|Estimation système|                  419|     NULL|     NULL|     NULL|     NULL|          30/09/2031|Non|  NULL|   NULL|     NULL|01 Maison|    NULL|       NULL|           NULL|        I21LA342638|7230005821|                        DSP|                EAU|           NULL|       6,80704E+11|              NULL|     Non|               NULL|            NULL|      Pas de préférence|      876577|      NULL| NULL|  NULL|  NULL|  NULL|  NULL|  NULL|  NULL|  NULL|  NULL|  NULL|        Non|         NULL|     NULL|     NULL|   9,80683E+13|    OUI|\n",
            "|PB ALBOU| AQUAWASH DT - 42257|BOIGNY SUR BIONNE|              0DYN| BOIGNY SUR BIONNE...|        0DYN|   BOIGNY SUR BIONNE...|          1.0|      31200| 5278203184|  1581253384| H23VA431106|Sappel - Diehl Me...|ALTAIR V4 composi...|      15|             2023|              Oui|              Oui|                  Oui|          NULL|       NULL|                NULL|       OUI|              AJ|Jardin - Accessible|              JARDIN|40591673|                    NULL|En service|         Ouvert|            NON| Normal|Raccordable raccordé|               NULL|Normal|Eau Froide|            Inconnu|     Inconnu|               NULL|        A pied|              NULL|42818254|  NULL|           32|BOIGNY SUR BIONNE|          45034|           45760|          NULL|            NULL|     NULL|      3991346832|   0769603401004101|       NON|  Particulier|BOIGNY SUR BIONNE|            45034|             45760|    0|                NULL|Estimation système|                   77|     NULL|     NULL|     NULL|     NULL|          30/09/2031|Non|  NULL|   NULL|     NULL|01 Maison|    NULL|       NULL|           NULL|        H23VA431106|5662208681|                        DSP|                EAU|           NULL|       5,27519E+11|              NULL|     Non|               NULL|            NULL|      Pas de préférence|      876551|      NULL| NULL|  NULL|  NULL|  NULL|  NULL|  NULL|  NULL|  NULL|  NULL|  NULL|        Non|         NULL|     NULL|     NULL|   9,80683E+13|    OUI|\n",
            "+--------+--------------------+-----------------+------------------+---------------------+------------+-----------------------+-------------+-----------+-----------+------------+------------+--------------------+--------------------+--------+-----------------+-----------------+-----------------+---------------------+--------------+-----------+--------------------+----------+----------------+-------------------+--------------------+--------+------------------------+----------+---------------+---------------+-------+--------------------+-------------------+------+----------+-------------------+------------+-------------------+--------------+------------------+--------+------+-------------+-----------------+---------------+----------------+--------------+----------------+---------+----------------+-------------------+----------+-------------+-----------------+-----------------+------------------+-----+--------------------+------------------+---------------------+---------+---------+---------+---------+--------------------+---+------+-------+---------+---------+--------+-----------+---------------+-------------------+----------+---------------------------+-------------------+---------------+------------------+------------------+--------+-------------------+----------------+-----------------------+------------+----------+-----+------+------+------+------+------+------+------+------+------+-----------+-------------+---------+---------+--------------+-------+\n",
            "only showing top 5 rows\n",
            "\n"
          ]
        }
      ]
    },
    {
      "cell_type": "code",
      "source": [
        "df.select('COMMUNE').distinct().collect()\n",
        "\n"
      ],
      "metadata": {
        "id": "0LSEBxBE0_0K"
      },
      "execution_count": null,
      "outputs": []
    },
    {
      "cell_type": "code",
      "source": [
        "def clean_dataset(df):\n",
        "    for c in df.columns:\n",
        "        df = df.withColumn(c, f.trim(df[c])) # Corrected column name here\n",
        "    return df\n",
        "\n",
        "df = clean_dataset(df) # Assign the cleaned DataFrame back to df\n",
        "df.show(5)"
      ],
      "metadata": {
        "colab": {
          "base_uri": "https://localhost:8080/"
        },
        "id": "MzY0A-5m496V",
        "outputId": "8c96b5d2-4466-48a8-d786-65730a80cff4"
      },
      "execution_count": null,
      "outputs": [
        {
          "output_type": "stream",
          "name": "stdout",
          "text": [
            "+--------+--------------------+-----------------+------------------+---------------------+------------+-----------------------+-------------+-----------+-----------+------------+------------+--------------------+--------------------+--------+-----------------+-----------------+-----------------+---------------------+--------------+-----------+--------------------+----------+----------------+-------------------+--------------------+--------+------------------------+----------+---------------+---------------+-------+--------------------+-------------------+------+----------+-------------------+------------+-------------------+--------------+------------------+--------+------+-------------+-----------------+---------------+----------------+--------------+----------------+---------+----------------+-------------------+----------+-------------+-----------------+-----------------+------------------+-----+--------------------+------------------+---------------------+---------+---------+---------+---------+--------------------+---+------+-------+---------+---------+--------+-----------+---------------+-------------------+----------+---------------------------+-------------------+---------------+------------------+------------------+--------+-------------------+----------------+-----------------------+------------+----------+-----+------+------+------+------+------+------+------+------+------+-----------+-------------+---------+---------+--------------+-------+\n",
            "|      PB|CONTRAT_RATTACHEMENT|          COMMUNE|CODE_CYCLE_SERVICE|LIBELLE_CYCLE_SERVICE|CODE_TOURNEE|LIBELLE_TOURNEE_SERVICE|TOURNEE_OPALE|SEQ_TOURNEE|ID_COMPTEUR|NUMERO_BADGE|NUMERO_SERIE|           FABRICANT|              MODELE|DIAMETRE|ANNEE_FABRICATION|SOLUTION_COMPACTE|SOLUTION_DEPORTEE|PASSERELLE_SITE_ISOLE|DATE_RECEPTION|DATE_DEPOSE|MATRICULE_EQUIPEMENT|ACCESSIBLE|CODE_EMPLACEMENT|LIBELLE_EMPLACEMENT|DETAILS_EMPLACEMENTS|  ID_PDS|DATE_MISE_EN_SERVICE_PDS|  ETAT_PDS|ETAT_SOURCE_PDS|LOGEMENT_VACANT|GEN_DIV| RACCORDE_RACORDABLE|DATE_RACCORDABILITE| USAGE|    FLUIDE|MAT_BRANCH_AV_COMPT|MAT_AP_COMPT|CALIBRE_BRANCHEMENT|MODE_DE_RELEVE|BRANCHEMENT_FICTIF| ID_SITE|FORAGE|NUM_VOIE_SITE|     COMMUNE_SITE|CODE_INSEE_SITE|CODE_POSTAL_SITE|ANC_A_FACTURER|BASSINS_VERSANTS|NOMBRE_UL|ID_COMPTE_CLIENT|ANCIENNE_REF_CLIENT|MENSUALISE|CLASSE_CLIENT|   COMMUNE_CLIENT|CODE_INSEE_CLIENT|CODE_POSTAL_CLIENT|  CMJ|DATE_DERNIERE_RELEVE|       TYPE_RELEVE|INDEX_DERNIERE_RELEVE|CODE_REM1|CODE_REM2|CODE_REM3|CODE_REM4|DT_FIN_CONTRAT_CADRE|CGC|MO_RES|NAT_REJ|IMPS_TRRR|TYPE_SITE|CODE_NAF|LIBELLE_NAF|PDS_STRATEGIQUE|CARNET_METROLOGIQUE| ID_ACTEUR|NATURE_CONTRAT_RATTACHEMENT|NATURE_SERV_EAU_ASS|CODE_PROTECTION|ID_DERNIERE_RELEVE|VOLUME_FORAGE_SITE|EFACTURE|CODE_REF_AGENCE_EAU|L_REF_AGENCE_EAU|L_MOD_CONTACT_PRIVILEGE|CODE_HEXAVIA|ID_PDS_GEN|SIRET|NB_LOG|NB_MIG|NB_PRO|NB_TOU|NB_UG1|NB_UG2|NB_UG3|NB_UG4|NB_UG5|FLG_ENT_NAT|SOURCE_RELEVE|CODE_INT1|CODE_INT2|SIRET_EMETTEUR|FACTURE|\n",
            "+--------+--------------------+-----------------+------------------+---------------------+------------+-----------------------+-------------+-----------+-----------+------------+------------+--------------------+--------------------+--------+-----------------+-----------------+-----------------+---------------------+--------------+-----------+--------------------+----------+----------------+-------------------+--------------------+--------+------------------------+----------+---------------+---------------+-------+--------------------+-------------------+------+----------+-------------------+------------+-------------------+--------------+------------------+--------+------+-------------+-----------------+---------------+----------------+--------------+----------------+---------+----------------+-------------------+----------+-------------+-----------------+-----------------+------------------+-----+--------------------+------------------+---------------------+---------+---------+---------+---------+--------------------+---+------+-------+---------+---------+--------+-----------+---------------+-------------------+----------+---------------------------+-------------------+---------------+------------------+------------------+--------+-------------------+----------------+-----------------------+------------+----------+-----+------+------+------+------+------+------+------+------+------+-----------+-------------+---------+---------+--------------+-------+\n",
            "|PB ALBOU| AQUAWASH DT - 42257|BOIGNY SUR BIONNE|              0DYL| BOIGNY SUR BIONNE...|        0DYL|   BOIGNY SUR BIONNE...|          1.0|       9700| 8361561125|  1581412316| H24VA169824|Sappel - Diehl Me...|ALTAIR V4 composi...|      15|             2024|              Oui|              Oui|                  Oui|          NULL|       NULL|    11A5241011931007|       OUI|              AJ|Jardin - Accessible|       JARDIN CHIENS| 6447593|                    NULL|En service|         Ouvert|            NON| Normal|Raccordable raccordé|               NULL|Normal|Eau Froide|            Inconnu|     Inconnu|               NULL|   Télé-Relevé|              NULL| 5734466|  NULL|           51|BOIGNY SUR BIONNE|          45034|           45760|          NULL|            NULL|     NULL|      9573027089|   0769603401027901|       NON|  Particulier|BOIGNY SUR BIONNE|            45034|             45760|0,101|                NULL|            Normal|                    0|     NULL|     NULL|     NULL|     NULL|          30/09/2031|Non|  NULL|   NULL|     NULL|01 Maison|    NULL|       NULL|           NULL|               AKDQ|2089525014|                        DSP|                EAU|           NULL|         8,366E+11|              NULL|     Non|               NULL|            NULL|      Pas de préférence|      876561|      NULL| NULL|  NULL|  NULL|  NULL|  NULL|  NULL|  NULL|  NULL|  NULL|  NULL|        Non|Relève à pied|     NULL|     NULL|   9,80683E+13|    OUI|\n",
            "|PB ALBOU| AQUAWASH DT - 42257|BOIGNY SUR BIONNE|              0DYL| BOIGNY SUR BIONNE...|        0DYL|   BOIGNY SUR BIONNE...|          1.0|       6500| 8676907387|  1581250045| A12HA184639|   ABB Kent - Elster|     V100 ou PSMT PC|      15|             2012|              Non|              Non|                  Non|          NULL|       NULL|                NULL|       OUI|              AJ|Jardin - Accessible|              JARDIN|14351824|                    NULL|En service|         Ouvert|            NON| Normal|Raccordable raccordé|               NULL|Normal|Eau Froide|            Inconnu|     Inconnu|               NULL|        A pied|              NULL|13000270|  NULL|           14|BOIGNY SUR BIONNE|          45034|           45760|          NULL|            NULL|     NULL|      9602248704|   0769603401034601|       OUI|  Particulier|BOIGNY SUR BIONNE|            45034|             45760| 0,89|                NULL|Estimation système|                 2848|     NULL|     NULL|     NULL|     NULL|          30/09/2031|Non|  NULL|   NULL|     NULL|01 Maison|    NULL|       NULL|           NULL|        A12HA184639| 838272009|                        DSP|                EAU|           NULL|       8,67911E+11|              NULL|     Non|               NULL|            NULL|      Pas de préférence|      876561|      NULL| NULL|  NULL|  NULL|  NULL|  NULL|  NULL|  NULL|  NULL|  NULL|  NULL|        Non|         NULL|     NULL|     NULL|   9,80683E+13|    OUI|\n",
            "|PB ALBOU| AQUAWASH DT - 42257|BOIGNY SUR BIONNE|              0DYN| BOIGNY SUR BIONNE...|        0DYN|   BOIGNY SUR BIONNE...|          1.0|       8200| 7193175514|  1581257427| H22VA087512|Sappel - Diehl Me...|ALTAIR V4 composi...|      15|             2022|              Oui|              Oui|                  Oui|          NULL|       NULL|                NULL|       OUI|              AC|  Cave - Accessible|              MAISON|15775315|                    NULL|En service|         Ouvert|            NON| Normal|Raccordable raccordé|               NULL|Normal|Eau Froide|            Inconnu|     Inconnu|               NULL|        A pied|              NULL|13165782|  NULL|           17|BOIGNY SUR BIONNE|          45034|           45760|          NULL|            NULL|     NULL|      3995295727|   0769603401059601|       NON|  Particulier|BOIGNY SUR BIONNE|            45034|             45760|0,365|                NULL|Estimation système|                  314|     NULL|     NULL|     NULL|     NULL|          30/09/2031|Non|  NULL|   NULL|     NULL|01 Maison|    NULL|       NULL|           NULL|        H22VA087512|3766466069|                        DSP|                EAU|           NULL|       7,19683E+11|              NULL|     Non|               NULL|            NULL|      Pas de préférence|      876546|      NULL| NULL|  NULL|  NULL|  NULL|  NULL|  NULL|  NULL|  NULL|  NULL|  NULL|        Non|         NULL|     NULL|     NULL|   9,80683E+13|    OUI|\n",
            "|PB ALBOU| AQUAWASH DT - 42257|BOIGNY SUR BIONNE|              0DYM| BOIGNY SUR BIONNE...|        0DYM|   BOIGNY SUR BIONNE...|          1.0|      16000| 6808431272|  1581257036| I21LA342638|         Itron - MID|Aquadis+ MID comp...|      15|             2021|              Oui|              Oui|                  Oui|          NULL|       NULL|                NULL|       OUI|              AJ|Jardin - Accessible|        JARDIN CHIEN|19972677|                    NULL|En service|         Ouvert|            NON| Normal|     Non Raccordable|               NULL|Normal|Eau Froide|            Inconnu|     Inconnu|               NULL|        A pied|              NULL|19069844|  NULL|          733|BOIGNY SUR BIONNE|          45034|           45760|          NULL|            NULL|     NULL|      3172258162|   0769603401081901|       NON|  Particulier|BOIGNY SUR BIONNE|            45034|             45760|0,398|                NULL|Estimation système|                  419|     NULL|     NULL|     NULL|     NULL|          30/09/2031|Non|  NULL|   NULL|     NULL|01 Maison|    NULL|       NULL|           NULL|        I21LA342638|7230005821|                        DSP|                EAU|           NULL|       6,80704E+11|              NULL|     Non|               NULL|            NULL|      Pas de préférence|      876577|      NULL| NULL|  NULL|  NULL|  NULL|  NULL|  NULL|  NULL|  NULL|  NULL|  NULL|        Non|         NULL|     NULL|     NULL|   9,80683E+13|    OUI|\n",
            "|PB ALBOU| AQUAWASH DT - 42257|BOIGNY SUR BIONNE|              0DYN| BOIGNY SUR BIONNE...|        0DYN|   BOIGNY SUR BIONNE...|          1.0|      31200| 5278203184|  1581253384| H23VA431106|Sappel - Diehl Me...|ALTAIR V4 composi...|      15|             2023|              Oui|              Oui|                  Oui|          NULL|       NULL|                NULL|       OUI|              AJ|Jardin - Accessible|              JARDIN|40591673|                    NULL|En service|         Ouvert|            NON| Normal|Raccordable raccordé|               NULL|Normal|Eau Froide|            Inconnu|     Inconnu|               NULL|        A pied|              NULL|42818254|  NULL|           32|BOIGNY SUR BIONNE|          45034|           45760|          NULL|            NULL|     NULL|      3991346832|   0769603401004101|       NON|  Particulier|BOIGNY SUR BIONNE|            45034|             45760|    0|                NULL|Estimation système|                   77|     NULL|     NULL|     NULL|     NULL|          30/09/2031|Non|  NULL|   NULL|     NULL|01 Maison|    NULL|       NULL|           NULL|        H23VA431106|5662208681|                        DSP|                EAU|           NULL|       5,27519E+11|              NULL|     Non|               NULL|            NULL|      Pas de préférence|      876551|      NULL| NULL|  NULL|  NULL|  NULL|  NULL|  NULL|  NULL|  NULL|  NULL|  NULL|        Non|         NULL|     NULL|     NULL|   9,80683E+13|    OUI|\n",
            "+--------+--------------------+-----------------+------------------+---------------------+------------+-----------------------+-------------+-----------+-----------+------------+------------+--------------------+--------------------+--------+-----------------+-----------------+-----------------+---------------------+--------------+-----------+--------------------+----------+----------------+-------------------+--------------------+--------+------------------------+----------+---------------+---------------+-------+--------------------+-------------------+------+----------+-------------------+------------+-------------------+--------------+------------------+--------+------+-------------+-----------------+---------------+----------------+--------------+----------------+---------+----------------+-------------------+----------+-------------+-----------------+-----------------+------------------+-----+--------------------+------------------+---------------------+---------+---------+---------+---------+--------------------+---+------+-------+---------+---------+--------+-----------+---------------+-------------------+----------+---------------------------+-------------------+---------------+------------------+------------------+--------+-------------------+----------------+-----------------------+------------+----------+-----+------+------+------+------+------+------+------+------+------+-----------+-------------+---------+---------+--------------+-------+\n",
            "only showing top 5 rows\n",
            "\n"
          ]
        }
      ]
    },
    {
      "cell_type": "code",
      "source": [],
      "metadata": {
        "id": "6CgDySGh49-_"
      },
      "execution_count": null,
      "outputs": []
    },
    {
      "cell_type": "code",
      "source": [
        "## En seul fonction\n",
        "from pyspark.sql.functions import to_timestamp, trim\n",
        "\n",
        "def clean_dataset(df):\n",
        "    # Nettoyage des colonnes contenant \"date\"\n",
        "    date_columns = [col for col in df.columns if \"date\" in col.lower()]\n",
        "    df = df.select([\n",
        "        to_timestamp(df[col], \"yyyy-MM-dd HH:mm:ss\").alias(col) if col in date_columns else df[col]\n",
        "        for col in df.columns\n",
        "    ])\n",
        "\n",
        "    # Supprimer les espaces inutiles pour toutes les colonnes\n",
        "    df = df.select([\n",
        "        trim(df[col]).alias(col) if df[col].dataType == \"string\" else df[col]\n",
        "        for col in df.columns\n",
        "    ])\n",
        "\n",
        "    return df\n",
        "\n",
        "# Appliquer la fonction sur le DataFrame\n",
        "df = clean_dataset(df)\n",
        "\n",
        "# Afficher les 5 premières lignes\n",
        "df.show(5)\n"
      ],
      "metadata": {
        "colab": {
          "base_uri": "https://localhost:8080/",
          "height": 668
        },
        "id": "PLXg8HrW4-DG",
        "outputId": "d72c6e50-2e97-47f0-a703-63e23d103b7c"
      },
      "execution_count": null,
      "outputs": [
        {
          "output_type": "error",
          "ename": "PySparkValueError",
          "evalue": "[CANNOT_CONVERT_COLUMN_INTO_BOOL] Cannot convert column into bool: please use '&' for 'and', '|' for 'or', '~' for 'not' when building DataFrame boolean expressions.",
          "traceback": [
            "\u001b[0;31m---------------------------------------------------------------------------\u001b[0m",
            "\u001b[0;31mPySparkValueError\u001b[0m                         Traceback (most recent call last)",
            "\u001b[0;32m<ipython-input-33-59a050c4f610>\u001b[0m in \u001b[0;36m<cell line: 21>\u001b[0;34m()\u001b[0m\n\u001b[1;32m     19\u001b[0m \u001b[0;34m\u001b[0m\u001b[0m\n\u001b[1;32m     20\u001b[0m \u001b[0;31m# Appliquer la fonction sur le DataFrame\u001b[0m\u001b[0;34m\u001b[0m\u001b[0;34m\u001b[0m\u001b[0m\n\u001b[0;32m---> 21\u001b[0;31m \u001b[0mdf\u001b[0m \u001b[0;34m=\u001b[0m \u001b[0mclean_dataset\u001b[0m\u001b[0;34m(\u001b[0m\u001b[0mdf\u001b[0m\u001b[0;34m)\u001b[0m\u001b[0;34m\u001b[0m\u001b[0;34m\u001b[0m\u001b[0m\n\u001b[0m\u001b[1;32m     22\u001b[0m \u001b[0;34m\u001b[0m\u001b[0m\n\u001b[1;32m     23\u001b[0m \u001b[0;31m# Afficher les 5 premières lignes\u001b[0m\u001b[0;34m\u001b[0m\u001b[0;34m\u001b[0m\u001b[0m\n",
            "\u001b[0;32m<ipython-input-33-59a050c4f610>\u001b[0m in \u001b[0;36mclean_dataset\u001b[0;34m(df)\u001b[0m\n\u001b[1;32m     11\u001b[0m \u001b[0;34m\u001b[0m\u001b[0m\n\u001b[1;32m     12\u001b[0m     \u001b[0;31m# Supprimer les espaces inutiles pour toutes les colonnes\u001b[0m\u001b[0;34m\u001b[0m\u001b[0;34m\u001b[0m\u001b[0m\n\u001b[0;32m---> 13\u001b[0;31m     df = df.select([\n\u001b[0m\u001b[1;32m     14\u001b[0m         \u001b[0mtrim\u001b[0m\u001b[0;34m(\u001b[0m\u001b[0mdf\u001b[0m\u001b[0;34m[\u001b[0m\u001b[0mcol\u001b[0m\u001b[0;34m]\u001b[0m\u001b[0;34m)\u001b[0m\u001b[0;34m.\u001b[0m\u001b[0malias\u001b[0m\u001b[0;34m(\u001b[0m\u001b[0mcol\u001b[0m\u001b[0;34m)\u001b[0m \u001b[0;32mif\u001b[0m \u001b[0mdf\u001b[0m\u001b[0;34m[\u001b[0m\u001b[0mcol\u001b[0m\u001b[0;34m]\u001b[0m\u001b[0;34m.\u001b[0m\u001b[0mdataType\u001b[0m \u001b[0;34m==\u001b[0m \u001b[0;34m\"string\"\u001b[0m \u001b[0;32melse\u001b[0m \u001b[0mdf\u001b[0m\u001b[0;34m[\u001b[0m\u001b[0mcol\u001b[0m\u001b[0;34m]\u001b[0m\u001b[0;34m\u001b[0m\u001b[0;34m\u001b[0m\u001b[0m\n\u001b[1;32m     15\u001b[0m         \u001b[0;32mfor\u001b[0m \u001b[0mcol\u001b[0m \u001b[0;32min\u001b[0m \u001b[0mdf\u001b[0m\u001b[0;34m.\u001b[0m\u001b[0mcolumns\u001b[0m\u001b[0;34m\u001b[0m\u001b[0;34m\u001b[0m\u001b[0m\n",
            "\u001b[0;32m<ipython-input-33-59a050c4f610>\u001b[0m in \u001b[0;36m<listcomp>\u001b[0;34m(.0)\u001b[0m\n\u001b[1;32m     12\u001b[0m     \u001b[0;31m# Supprimer les espaces inutiles pour toutes les colonnes\u001b[0m\u001b[0;34m\u001b[0m\u001b[0;34m\u001b[0m\u001b[0m\n\u001b[1;32m     13\u001b[0m     df = df.select([\n\u001b[0;32m---> 14\u001b[0;31m         \u001b[0mtrim\u001b[0m\u001b[0;34m(\u001b[0m\u001b[0mdf\u001b[0m\u001b[0;34m[\u001b[0m\u001b[0mcol\u001b[0m\u001b[0;34m]\u001b[0m\u001b[0;34m)\u001b[0m\u001b[0;34m.\u001b[0m\u001b[0malias\u001b[0m\u001b[0;34m(\u001b[0m\u001b[0mcol\u001b[0m\u001b[0;34m)\u001b[0m \u001b[0;32mif\u001b[0m \u001b[0mdf\u001b[0m\u001b[0;34m[\u001b[0m\u001b[0mcol\u001b[0m\u001b[0;34m]\u001b[0m\u001b[0;34m.\u001b[0m\u001b[0mdataType\u001b[0m \u001b[0;34m==\u001b[0m \u001b[0;34m\"string\"\u001b[0m \u001b[0;32melse\u001b[0m \u001b[0mdf\u001b[0m\u001b[0;34m[\u001b[0m\u001b[0mcol\u001b[0m\u001b[0;34m]\u001b[0m\u001b[0;34m\u001b[0m\u001b[0;34m\u001b[0m\u001b[0m\n\u001b[0m\u001b[1;32m     15\u001b[0m         \u001b[0;32mfor\u001b[0m \u001b[0mcol\u001b[0m \u001b[0;32min\u001b[0m \u001b[0mdf\u001b[0m\u001b[0;34m.\u001b[0m\u001b[0mcolumns\u001b[0m\u001b[0;34m\u001b[0m\u001b[0;34m\u001b[0m\u001b[0m\n\u001b[1;32m     16\u001b[0m     ])\n",
            "\u001b[0;32m/usr/local/lib/python3.10/dist-packages/pyspark/sql/column.py\u001b[0m in \u001b[0;36m__nonzero__\u001b[0;34m(self)\u001b[0m\n\u001b[1;32m   1398\u001b[0m \u001b[0;34m\u001b[0m\u001b[0m\n\u001b[1;32m   1399\u001b[0m     \u001b[0;32mdef\u001b[0m \u001b[0m__nonzero__\u001b[0m\u001b[0;34m(\u001b[0m\u001b[0mself\u001b[0m\u001b[0;34m)\u001b[0m \u001b[0;34m->\u001b[0m \u001b[0;32mNone\u001b[0m\u001b[0;34m:\u001b[0m\u001b[0;34m\u001b[0m\u001b[0;34m\u001b[0m\u001b[0m\n\u001b[0;32m-> 1400\u001b[0;31m         raise PySparkValueError(\n\u001b[0m\u001b[1;32m   1401\u001b[0m             \u001b[0merror_class\u001b[0m\u001b[0;34m=\u001b[0m\u001b[0;34m\"CANNOT_CONVERT_COLUMN_INTO_BOOL\"\u001b[0m\u001b[0;34m,\u001b[0m\u001b[0;34m\u001b[0m\u001b[0;34m\u001b[0m\u001b[0m\n\u001b[1;32m   1402\u001b[0m             \u001b[0mmessage_parameters\u001b[0m\u001b[0;34m=\u001b[0m\u001b[0;34m{\u001b[0m\u001b[0;34m}\u001b[0m\u001b[0;34m,\u001b[0m\u001b[0;34m\u001b[0m\u001b[0;34m\u001b[0m\u001b[0m\n",
            "\u001b[0;31mPySparkValueError\u001b[0m: [CANNOT_CONVERT_COLUMN_INTO_BOOL] Cannot convert column into bool: please use '&' for 'and', '|' for 'or', '~' for 'not' when building DataFrame boolean expressions."
          ]
        }
      ]
    },
    {
      "cell_type": "code",
      "source": [
        "from pyspark.sql.functions import to_timestamp, trim\n",
        "from pyspark.sql.types import StringType\n",
        "\n",
        "def clean_dataset(df):\n",
        "    # Nettoyage des colonnes contenant \"date\"\n",
        "    date_columns = [col for col in df.columns if \"date\" in col.lower()]\n",
        "    df = df.select([\n",
        "        to_timestamp(df[col], \"yyyy-MM-dd HH:mm:ss\").alias(col) if col in date_columns else df[col]\n",
        "        for col in df.columns\n",
        "    ])\n",
        "\n",
        "    # Supprimer les espaces inutiles pour les colonnes de type chaîne de caractères\n",
        "    df = df.select([\n",
        "        trim(df[col]).alias(col) if df.schema[col].dataType == StringType() else df[col]\n",
        "        for col in df.columns\n",
        "    ])\n",
        "\n",
        "    return df\n",
        "\n",
        "# Appliquer la fonction sur le DataFrame\n",
        "df = clean_dataset(df)\n",
        "\n",
        "# Afficher les 5 premières lignes\n",
        "df.show(5)\n"
      ],
      "metadata": {
        "colab": {
          "base_uri": "https://localhost:8080/"
        },
        "id": "sDacYE2c7x5n",
        "outputId": "46cffe67-a088-4029-c3ff-32d88fbd9f51"
      },
      "execution_count": null,
      "outputs": [
        {
          "output_type": "stream",
          "name": "stdout",
          "text": [
            "+--------+--------------------+-----------------+------------------+---------------------+------------+-----------------------+-------------+-----------+-----------+------------+------------+--------------------+--------------------+--------+-----------------+-----------------+-----------------+---------------------+--------------+-----------+--------------------+----------+----------------+-------------------+--------------------+--------+------------------------+----------+---------------+---------------+-------+--------------------+-------------------+------+----------+-------------------+------------+-------------------+--------------+------------------+--------+------+-------------+-----------------+---------------+----------------+--------------+----------------+---------+----------------+-------------------+----------+-------------+-----------------+-----------------+------------------+-----+--------------------+------------------+---------------------+---------+---------+---------+---------+--------------------+---+------+-------+---------+---------+--------+-----------+---------------+-------------------+----------+---------------------------+-------------------+---------------+------------------+------------------+--------+-------------------+----------------+-----------------------+------------+----------+-----+------+------+------+------+------+------+------+------+------+-----------+-------------+---------+---------+--------------+-------+\n",
            "|      PB|CONTRAT_RATTACHEMENT|          COMMUNE|CODE_CYCLE_SERVICE|LIBELLE_CYCLE_SERVICE|CODE_TOURNEE|LIBELLE_TOURNEE_SERVICE|TOURNEE_OPALE|SEQ_TOURNEE|ID_COMPTEUR|NUMERO_BADGE|NUMERO_SERIE|           FABRICANT|              MODELE|DIAMETRE|ANNEE_FABRICATION|SOLUTION_COMPACTE|SOLUTION_DEPORTEE|PASSERELLE_SITE_ISOLE|DATE_RECEPTION|DATE_DEPOSE|MATRICULE_EQUIPEMENT|ACCESSIBLE|CODE_EMPLACEMENT|LIBELLE_EMPLACEMENT|DETAILS_EMPLACEMENTS|  ID_PDS|DATE_MISE_EN_SERVICE_PDS|  ETAT_PDS|ETAT_SOURCE_PDS|LOGEMENT_VACANT|GEN_DIV| RACCORDE_RACORDABLE|DATE_RACCORDABILITE| USAGE|    FLUIDE|MAT_BRANCH_AV_COMPT|MAT_AP_COMPT|CALIBRE_BRANCHEMENT|MODE_DE_RELEVE|BRANCHEMENT_FICTIF| ID_SITE|FORAGE|NUM_VOIE_SITE|     COMMUNE_SITE|CODE_INSEE_SITE|CODE_POSTAL_SITE|ANC_A_FACTURER|BASSINS_VERSANTS|NOMBRE_UL|ID_COMPTE_CLIENT|ANCIENNE_REF_CLIENT|MENSUALISE|CLASSE_CLIENT|   COMMUNE_CLIENT|CODE_INSEE_CLIENT|CODE_POSTAL_CLIENT|  CMJ|DATE_DERNIERE_RELEVE|       TYPE_RELEVE|INDEX_DERNIERE_RELEVE|CODE_REM1|CODE_REM2|CODE_REM3|CODE_REM4|DT_FIN_CONTRAT_CADRE|CGC|MO_RES|NAT_REJ|IMPS_TRRR|TYPE_SITE|CODE_NAF|LIBELLE_NAF|PDS_STRATEGIQUE|CARNET_METROLOGIQUE| ID_ACTEUR|NATURE_CONTRAT_RATTACHEMENT|NATURE_SERV_EAU_ASS|CODE_PROTECTION|ID_DERNIERE_RELEVE|VOLUME_FORAGE_SITE|EFACTURE|CODE_REF_AGENCE_EAU|L_REF_AGENCE_EAU|L_MOD_CONTACT_PRIVILEGE|CODE_HEXAVIA|ID_PDS_GEN|SIRET|NB_LOG|NB_MIG|NB_PRO|NB_TOU|NB_UG1|NB_UG2|NB_UG3|NB_UG4|NB_UG5|FLG_ENT_NAT|SOURCE_RELEVE|CODE_INT1|CODE_INT2|SIRET_EMETTEUR|FACTURE|\n",
            "+--------+--------------------+-----------------+------------------+---------------------+------------+-----------------------+-------------+-----------+-----------+------------+------------+--------------------+--------------------+--------+-----------------+-----------------+-----------------+---------------------+--------------+-----------+--------------------+----------+----------------+-------------------+--------------------+--------+------------------------+----------+---------------+---------------+-------+--------------------+-------------------+------+----------+-------------------+------------+-------------------+--------------+------------------+--------+------+-------------+-----------------+---------------+----------------+--------------+----------------+---------+----------------+-------------------+----------+-------------+-----------------+-----------------+------------------+-----+--------------------+------------------+---------------------+---------+---------+---------+---------+--------------------+---+------+-------+---------+---------+--------+-----------+---------------+-------------------+----------+---------------------------+-------------------+---------------+------------------+------------------+--------+-------------------+----------------+-----------------------+------------+----------+-----+------+------+------+------+------+------+------+------+------+-----------+-------------+---------+---------+--------------+-------+\n",
            "|PB ALBOU| AQUAWASH DT - 42257|BOIGNY SUR BIONNE|              0DYL| BOIGNY SUR BIONNE...|        0DYL|   BOIGNY SUR BIONNE...|          1.0|       9700| 8361561125|  1581412316| H24VA169824|Sappel - Diehl Me...|ALTAIR V4 composi...|      15|             2024|              Oui|              Oui|                  Oui|          NULL|       NULL|    11A5241011931007|       OUI|              AJ|Jardin - Accessible|       JARDIN CHIENS| 6447593|                    NULL|En service|         Ouvert|            NON| Normal|Raccordable raccordé|               NULL|Normal|Eau Froide|            Inconnu|     Inconnu|               NULL|   Télé-Relevé|              NULL| 5734466|  NULL|           51|BOIGNY SUR BIONNE|          45034|           45760|          NULL|            NULL|     NULL|      9573027089|   0769603401027901|       NON|  Particulier|BOIGNY SUR BIONNE|            45034|             45760|0,101|                NULL|            Normal|                    0|     NULL|     NULL|     NULL|     NULL|          30/09/2031|Non|  NULL|   NULL|     NULL|01 Maison|    NULL|       NULL|           NULL|               AKDQ|2089525014|                        DSP|                EAU|           NULL|         8,366E+11|              NULL|     Non|               NULL|            NULL|      Pas de préférence|      876561|      NULL| NULL|  NULL|  NULL|  NULL|  NULL|  NULL|  NULL|  NULL|  NULL|  NULL|        Non|Relève à pied|     NULL|     NULL|   9,80683E+13|    OUI|\n",
            "|PB ALBOU| AQUAWASH DT - 42257|BOIGNY SUR BIONNE|              0DYL| BOIGNY SUR BIONNE...|        0DYL|   BOIGNY SUR BIONNE...|          1.0|       6500| 8676907387|  1581250045| A12HA184639|   ABB Kent - Elster|     V100 ou PSMT PC|      15|             2012|              Non|              Non|                  Non|          NULL|       NULL|                NULL|       OUI|              AJ|Jardin - Accessible|              JARDIN|14351824|                    NULL|En service|         Ouvert|            NON| Normal|Raccordable raccordé|               NULL|Normal|Eau Froide|            Inconnu|     Inconnu|               NULL|        A pied|              NULL|13000270|  NULL|           14|BOIGNY SUR BIONNE|          45034|           45760|          NULL|            NULL|     NULL|      9602248704|   0769603401034601|       OUI|  Particulier|BOIGNY SUR BIONNE|            45034|             45760| 0,89|                NULL|Estimation système|                 2848|     NULL|     NULL|     NULL|     NULL|          30/09/2031|Non|  NULL|   NULL|     NULL|01 Maison|    NULL|       NULL|           NULL|        A12HA184639| 838272009|                        DSP|                EAU|           NULL|       8,67911E+11|              NULL|     Non|               NULL|            NULL|      Pas de préférence|      876561|      NULL| NULL|  NULL|  NULL|  NULL|  NULL|  NULL|  NULL|  NULL|  NULL|  NULL|        Non|         NULL|     NULL|     NULL|   9,80683E+13|    OUI|\n",
            "|PB ALBOU| AQUAWASH DT - 42257|BOIGNY SUR BIONNE|              0DYN| BOIGNY SUR BIONNE...|        0DYN|   BOIGNY SUR BIONNE...|          1.0|       8200| 7193175514|  1581257427| H22VA087512|Sappel - Diehl Me...|ALTAIR V4 composi...|      15|             2022|              Oui|              Oui|                  Oui|          NULL|       NULL|                NULL|       OUI|              AC|  Cave - Accessible|              MAISON|15775315|                    NULL|En service|         Ouvert|            NON| Normal|Raccordable raccordé|               NULL|Normal|Eau Froide|            Inconnu|     Inconnu|               NULL|        A pied|              NULL|13165782|  NULL|           17|BOIGNY SUR BIONNE|          45034|           45760|          NULL|            NULL|     NULL|      3995295727|   0769603401059601|       NON|  Particulier|BOIGNY SUR BIONNE|            45034|             45760|0,365|                NULL|Estimation système|                  314|     NULL|     NULL|     NULL|     NULL|          30/09/2031|Non|  NULL|   NULL|     NULL|01 Maison|    NULL|       NULL|           NULL|        H22VA087512|3766466069|                        DSP|                EAU|           NULL|       7,19683E+11|              NULL|     Non|               NULL|            NULL|      Pas de préférence|      876546|      NULL| NULL|  NULL|  NULL|  NULL|  NULL|  NULL|  NULL|  NULL|  NULL|  NULL|        Non|         NULL|     NULL|     NULL|   9,80683E+13|    OUI|\n",
            "|PB ALBOU| AQUAWASH DT - 42257|BOIGNY SUR BIONNE|              0DYM| BOIGNY SUR BIONNE...|        0DYM|   BOIGNY SUR BIONNE...|          1.0|      16000| 6808431272|  1581257036| I21LA342638|         Itron - MID|Aquadis+ MID comp...|      15|             2021|              Oui|              Oui|                  Oui|          NULL|       NULL|                NULL|       OUI|              AJ|Jardin - Accessible|        JARDIN CHIEN|19972677|                    NULL|En service|         Ouvert|            NON| Normal|     Non Raccordable|               NULL|Normal|Eau Froide|            Inconnu|     Inconnu|               NULL|        A pied|              NULL|19069844|  NULL|          733|BOIGNY SUR BIONNE|          45034|           45760|          NULL|            NULL|     NULL|      3172258162|   0769603401081901|       NON|  Particulier|BOIGNY SUR BIONNE|            45034|             45760|0,398|                NULL|Estimation système|                  419|     NULL|     NULL|     NULL|     NULL|          30/09/2031|Non|  NULL|   NULL|     NULL|01 Maison|    NULL|       NULL|           NULL|        I21LA342638|7230005821|                        DSP|                EAU|           NULL|       6,80704E+11|              NULL|     Non|               NULL|            NULL|      Pas de préférence|      876577|      NULL| NULL|  NULL|  NULL|  NULL|  NULL|  NULL|  NULL|  NULL|  NULL|  NULL|        Non|         NULL|     NULL|     NULL|   9,80683E+13|    OUI|\n",
            "|PB ALBOU| AQUAWASH DT - 42257|BOIGNY SUR BIONNE|              0DYN| BOIGNY SUR BIONNE...|        0DYN|   BOIGNY SUR BIONNE...|          1.0|      31200| 5278203184|  1581253384| H23VA431106|Sappel - Diehl Me...|ALTAIR V4 composi...|      15|             2023|              Oui|              Oui|                  Oui|          NULL|       NULL|                NULL|       OUI|              AJ|Jardin - Accessible|              JARDIN|40591673|                    NULL|En service|         Ouvert|            NON| Normal|Raccordable raccordé|               NULL|Normal|Eau Froide|            Inconnu|     Inconnu|               NULL|        A pied|              NULL|42818254|  NULL|           32|BOIGNY SUR BIONNE|          45034|           45760|          NULL|            NULL|     NULL|      3991346832|   0769603401004101|       NON|  Particulier|BOIGNY SUR BIONNE|            45034|             45760|    0|                NULL|Estimation système|                   77|     NULL|     NULL|     NULL|     NULL|          30/09/2031|Non|  NULL|   NULL|     NULL|01 Maison|    NULL|       NULL|           NULL|        H23VA431106|5662208681|                        DSP|                EAU|           NULL|       5,27519E+11|              NULL|     Non|               NULL|            NULL|      Pas de préférence|      876551|      NULL| NULL|  NULL|  NULL|  NULL|  NULL|  NULL|  NULL|  NULL|  NULL|  NULL|        Non|         NULL|     NULL|     NULL|   9,80683E+13|    OUI|\n",
            "+--------+--------------------+-----------------+------------------+---------------------+------------+-----------------------+-------------+-----------+-----------+------------+------------+--------------------+--------------------+--------+-----------------+-----------------+-----------------+---------------------+--------------+-----------+--------------------+----------+----------------+-------------------+--------------------+--------+------------------------+----------+---------------+---------------+-------+--------------------+-------------------+------+----------+-------------------+------------+-------------------+--------------+------------------+--------+------+-------------+-----------------+---------------+----------------+--------------+----------------+---------+----------------+-------------------+----------+-------------+-----------------+-----------------+------------------+-----+--------------------+------------------+---------------------+---------+---------+---------+---------+--------------------+---+------+-------+---------+---------+--------+-----------+---------------+-------------------+----------+---------------------------+-------------------+---------------+------------------+------------------+--------+-------------------+----------------+-----------------------+------------+----------+-----+------+------+------+------+------+------+------+------+------+-----------+-------------+---------+---------+--------------+-------+\n",
            "only showing top 5 rows\n",
            "\n"
          ]
        }
      ]
    },
    {
      "cell_type": "code",
      "source": [
        "# Extraire les valeurs uniques de la colonne COMMUNE\n",
        "communes = df.select(\"COMMUNE\").distinct()\n",
        "\n",
        "# Afficher les communes\n",
        "#communes.show()\n",
        "\n",
        "# Convertir en une liste Python (si nécessaire)\n",
        "liste_communes = [row[\"COMMUNE\"] for row in communes.collect()]\n",
        "print(liste_communes)"
      ],
      "metadata": {
        "colab": {
          "base_uri": "https://localhost:8080/"
        },
        "id": "2opCzAU171r5",
        "outputId": "b6f35370-8e86-4998-8a24-b4296f30c4b6"
      },
      "execution_count": null,
      "outputs": [
        {
          "output_type": "stream",
          "name": "stdout",
          "text": [
            "['MARDIE', 'BOU', 'MARIGNY LES USAGES', 'OLIVET', 'CHECY', 'CHANTEAU', 'BOIGNY SUR BIONNE', 'ORLEANS', 'COMBLEUX', 'ST JEAN DE LA RUELLE', 'ORMES', 'SAINT JEAN LE BLANC', 'ST JEAN LE BLANC', 'ST PRYVE ST MESMIN', 'ST JEAN DE BRAYE', 'SARAN', 'ST CYR EN VAL']\n"
          ]
        }
      ]
    },
    {
      "cell_type": "code",
      "source": [
        "df.select('MODE_DE_RELEVE').distinct().show()"
      ],
      "metadata": {
        "colab": {
          "base_uri": "https://localhost:8080/"
        },
        "id": "6vFsWIH97121",
        "outputId": "7f380869-7d59-434b-9b74-328017716364"
      },
      "execution_count": null,
      "outputs": [
        {
          "output_type": "stream",
          "name": "stdout",
          "text": [
            "+--------------+\n",
            "|MODE_DE_RELEVE|\n",
            "+--------------+\n",
            "|        A pied|\n",
            "|   Télé-Relevé|\n",
            "|  Radio-Relevé|\n",
            "|          NULL|\n",
            "+--------------+\n",
            "\n"
          ]
        }
      ]
    },
    {
      "cell_type": "code",
      "source": [
        "# prompt: connaitre le nombre de tele releve, de a pieds et de radio releve par commune\n",
        "\n",
        "from pyspark.sql.functions import count\n",
        "\n",
        "# Group by commune and mode de releve, then count\n",
        "result_df = df.groupBy(\"COMMUNE\", \"MODE_DE_RELEVE\").agg(count(\"*\").alias(\"COUNT\"))\n",
        "\n",
        "# Show the results\n",
        "result_df.show()"
      ],
      "metadata": {
        "colab": {
          "base_uri": "https://localhost:8080/"
        },
        "id": "kkpBVlS99kDH",
        "outputId": "3468f8ea-e8d7-422c-9dbd-d5e57da2e67a"
      },
      "execution_count": null,
      "outputs": [
        {
          "output_type": "stream",
          "name": "stdout",
          "text": [
            "+------------------+--------------+-----+\n",
            "|           COMMUNE|MODE_DE_RELEVE|COUNT|\n",
            "+------------------+--------------+-----+\n",
            "|             CHECY|   Télé-Relevé| 3537|\n",
            "|          CHANTEAU|   Télé-Relevé|    6|\n",
            "|            MARDIE|  Radio-Relevé|    2|\n",
            "|               BOU|        A pied|   87|\n",
            "|               BOU|   Télé-Relevé|  457|\n",
            "|          COMBLEUX|   Télé-Relevé|  266|\n",
            "|          CHANTEAU|        A pied|  628|\n",
            "|MARIGNY LES USAGES|  Radio-Relevé|    1|\n",
            "| BOIGNY SUR BIONNE|        A pied|  588|\n",
            "|            OLIVET|   Télé-Relevé| 8058|\n",
            "|           ORLEANS|   Télé-Relevé|23821|\n",
            "|            OLIVET|        A pied|  186|\n",
            "|             CHECY|        A pied|  647|\n",
            "|MARIGNY LES USAGES|   Télé-Relevé|   11|\n",
            "|             CHECY|  Radio-Relevé|    1|\n",
            "|             CHECY|          NULL|    3|\n",
            "|MARIGNY LES USAGES|        A pied|  782|\n",
            "|            MARDIE|   Télé-Relevé| 1126|\n",
            "|           ORLEANS|        A pied|  619|\n",
            "|          COMBLEUX|        A pied|   38|\n",
            "+------------------+--------------+-----+\n",
            "only showing top 20 rows\n",
            "\n"
          ]
        }
      ]
    },
    {
      "cell_type": "code",
      "source": [],
      "metadata": {
        "id": "shNKxbho9kFa"
      },
      "execution_count": null,
      "outputs": []
    },
    {
      "cell_type": "code",
      "source": [],
      "metadata": {
        "id": "1wymDXJaPIJ_"
      },
      "execution_count": null,
      "outputs": []
    },
    {
      "cell_type": "code",
      "source": [],
      "metadata": {
        "id": "yGKiU_yf9kIo"
      },
      "execution_count": null,
      "outputs": []
    },
    {
      "cell_type": "code",
      "source": [],
      "metadata": {
        "id": "xkjCk_dI9kNT"
      },
      "execution_count": null,
      "outputs": []
    },
    {
      "cell_type": "code",
      "source": [],
      "metadata": {
        "id": "12yabnRG9kRQ"
      },
      "execution_count": null,
      "outputs": []
    }
  ]
}